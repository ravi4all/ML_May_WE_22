{
 "cells": [
  {
   "cell_type": "code",
   "execution_count": 1,
   "id": "b7f83a72",
   "metadata": {},
   "outputs": [],
   "source": [
    "import numpy as np"
   ]
  },
  {
   "cell_type": "code",
   "execution_count": 2,
   "id": "6dc9dcaf",
   "metadata": {},
   "outputs": [],
   "source": [
    "x = np.random.randint(1,50,15)"
   ]
  },
  {
   "cell_type": "code",
   "execution_count": 3,
   "id": "39474654",
   "metadata": {},
   "outputs": [
    {
     "data": {
      "text/plain": [
       "array([45, 24,  8, 33, 38, 10, 22, 49, 12, 22, 36, 29, 28, 16, 16])"
      ]
     },
     "execution_count": 3,
     "metadata": {},
     "output_type": "execute_result"
    }
   ],
   "source": [
    "x"
   ]
  },
  {
   "cell_type": "code",
   "execution_count": 4,
   "id": "274eb8d9",
   "metadata": {},
   "outputs": [
    {
     "data": {
      "text/plain": [
       "(15,)"
      ]
     },
     "execution_count": 4,
     "metadata": {},
     "output_type": "execute_result"
    }
   ],
   "source": [
    "x.shape"
   ]
  },
  {
   "cell_type": "code",
   "execution_count": 5,
   "id": "8ba954d1",
   "metadata": {},
   "outputs": [
    {
     "data": {
      "text/plain": [
       "(15,)"
      ]
     },
     "execution_count": 5,
     "metadata": {},
     "output_type": "execute_result"
    }
   ],
   "source": [
    "np.shape(x)"
   ]
  },
  {
   "cell_type": "code",
   "execution_count": 6,
   "id": "a99e26b2",
   "metadata": {},
   "outputs": [
    {
     "data": {
      "text/plain": [
       "388"
      ]
     },
     "execution_count": 6,
     "metadata": {},
     "output_type": "execute_result"
    }
   ],
   "source": [
    "np.sum(x)"
   ]
  },
  {
   "cell_type": "code",
   "execution_count": 8,
   "id": "b72b8706",
   "metadata": {},
   "outputs": [
    {
     "data": {
      "text/plain": [
       "25.866666666666667"
      ]
     },
     "execution_count": 8,
     "metadata": {},
     "output_type": "execute_result"
    }
   ],
   "source": [
    "np.mean(x)"
   ]
  },
  {
   "cell_type": "code",
   "execution_count": 9,
   "id": "b41314a4",
   "metadata": {},
   "outputs": [
    {
     "data": {
      "text/plain": [
       "49"
      ]
     },
     "execution_count": 9,
     "metadata": {},
     "output_type": "execute_result"
    }
   ],
   "source": [
    "np.max(x)"
   ]
  },
  {
   "cell_type": "code",
   "execution_count": 10,
   "id": "e008fd84",
   "metadata": {},
   "outputs": [
    {
     "data": {
      "text/plain": [
       "8"
      ]
     },
     "execution_count": 10,
     "metadata": {},
     "output_type": "execute_result"
    }
   ],
   "source": [
    "np.min(x)"
   ]
  },
  {
   "cell_type": "code",
   "execution_count": 11,
   "id": "f6b83d12",
   "metadata": {},
   "outputs": [
    {
     "data": {
      "text/plain": [
       "array([ 8, 10, 12, 16, 16, 22, 22, 24, 28, 29, 33, 36, 38, 45, 49])"
      ]
     },
     "execution_count": 11,
     "metadata": {},
     "output_type": "execute_result"
    }
   ],
   "source": [
    "np.sort(x)"
   ]
  },
  {
   "cell_type": "code",
   "execution_count": 12,
   "id": "0243e1c6",
   "metadata": {},
   "outputs": [
    {
     "data": {
      "text/plain": [
       "12.131868043389781"
      ]
     },
     "execution_count": 12,
     "metadata": {},
     "output_type": "execute_result"
    }
   ],
   "source": [
    "np.std(x)"
   ]
  },
  {
   "cell_type": "code",
   "execution_count": 13,
   "id": "81ae998d",
   "metadata": {},
   "outputs": [
    {
     "data": {
      "text/plain": [
       "147.1822222222222"
      ]
     },
     "execution_count": 13,
     "metadata": {},
     "output_type": "execute_result"
    }
   ],
   "source": [
    "np.var(x)"
   ]
  },
  {
   "cell_type": "code",
   "execution_count": 15,
   "id": "14515d14",
   "metadata": {},
   "outputs": [
    {
     "data": {
      "text/plain": [
       "array([[45, 24,  8],\n",
       "       [33, 38, 10],\n",
       "       [22, 49, 12],\n",
       "       [22, 36, 29],\n",
       "       [28, 16, 16]])"
      ]
     },
     "execution_count": 15,
     "metadata": {},
     "output_type": "execute_result"
    }
   ],
   "source": [
    "np.reshape(x, (5,3))"
   ]
  },
  {
   "cell_type": "code",
   "execution_count": 16,
   "id": "d0e6ca91",
   "metadata": {},
   "outputs": [
    {
     "data": {
      "text/plain": [
       "array([[45, 24,  8],\n",
       "       [33, 38, 10],\n",
       "       [22, 49, 12],\n",
       "       [22, 36, 29],\n",
       "       [28, 16, 16]])"
      ]
     },
     "execution_count": 16,
     "metadata": {},
     "output_type": "execute_result"
    }
   ],
   "source": [
    "x.reshape(5,3)"
   ]
  },
  {
   "cell_type": "code",
   "execution_count": 18,
   "id": "31b20d50",
   "metadata": {},
   "outputs": [],
   "source": [
    "x = x.reshape(5,3)"
   ]
  },
  {
   "cell_type": "code",
   "execution_count": 19,
   "id": "4df00f20",
   "metadata": {},
   "outputs": [
    {
     "data": {
      "text/plain": [
       "array([[45, 24,  8],\n",
       "       [33, 38, 10],\n",
       "       [22, 49, 12],\n",
       "       [22, 36, 29],\n",
       "       [28, 16, 16]])"
      ]
     },
     "execution_count": 19,
     "metadata": {},
     "output_type": "execute_result"
    }
   ],
   "source": [
    "x"
   ]
  },
  {
   "cell_type": "code",
   "execution_count": 20,
   "id": "3fb2e980",
   "metadata": {},
   "outputs": [],
   "source": [
    "# convert n dimensional data to 1D\n",
    "x = x.flatten()"
   ]
  },
  {
   "cell_type": "code",
   "execution_count": 21,
   "id": "b7e7e352",
   "metadata": {},
   "outputs": [
    {
     "data": {
      "text/plain": [
       "array([45, 24,  8, 33, 38, 10, 22, 49, 12, 22, 36, 29, 28, 16, 16])"
      ]
     },
     "execution_count": 21,
     "metadata": {},
     "output_type": "execute_result"
    }
   ],
   "source": [
    "x"
   ]
  },
  {
   "cell_type": "code",
   "execution_count": 22,
   "id": "626eb1d6",
   "metadata": {},
   "outputs": [],
   "source": [
    "x = x.reshape(5,3)"
   ]
  },
  {
   "cell_type": "code",
   "execution_count": 23,
   "id": "4ef781f7",
   "metadata": {},
   "outputs": [
    {
     "data": {
      "text/plain": [
       "array([[45, 24,  8],\n",
       "       [33, 38, 10],\n",
       "       [22, 49, 12],\n",
       "       [22, 36, 29],\n",
       "       [28, 16, 16]])"
      ]
     },
     "execution_count": 23,
     "metadata": {},
     "output_type": "execute_result"
    }
   ],
   "source": [
    "x"
   ]
  },
  {
   "cell_type": "code",
   "execution_count": 24,
   "id": "f06d6162",
   "metadata": {},
   "outputs": [
    {
     "data": {
      "text/plain": [
       "49"
      ]
     },
     "execution_count": 24,
     "metadata": {},
     "output_type": "execute_result"
    }
   ],
   "source": [
    "x.max()"
   ]
  },
  {
   "cell_type": "code",
   "execution_count": 25,
   "id": "79129d91",
   "metadata": {},
   "outputs": [
    {
     "data": {
      "text/plain": [
       "array([45, 49, 29])"
      ]
     },
     "execution_count": 25,
     "metadata": {},
     "output_type": "execute_result"
    }
   ],
   "source": [
    "# column wise\n",
    "x.max(axis=0)"
   ]
  },
  {
   "cell_type": "code",
   "execution_count": 26,
   "id": "02f89749",
   "metadata": {},
   "outputs": [
    {
     "data": {
      "text/plain": [
       "array([45, 38, 49, 36, 28])"
      ]
     },
     "execution_count": 26,
     "metadata": {},
     "output_type": "execute_result"
    }
   ],
   "source": [
    "# row wise\n",
    "x.max(axis=1)"
   ]
  },
  {
   "cell_type": "code",
   "execution_count": 27,
   "id": "2e95ffa9",
   "metadata": {},
   "outputs": [
    {
     "data": {
      "text/plain": [
       "388"
      ]
     },
     "execution_count": 27,
     "metadata": {},
     "output_type": "execute_result"
    }
   ],
   "source": [
    "x.sum()"
   ]
  },
  {
   "cell_type": "code",
   "execution_count": 28,
   "id": "3759416a",
   "metadata": {},
   "outputs": [
    {
     "data": {
      "text/plain": [
       "array([150, 163,  75])"
      ]
     },
     "execution_count": 28,
     "metadata": {},
     "output_type": "execute_result"
    }
   ],
   "source": [
    "x.sum(axis=0)"
   ]
  },
  {
   "cell_type": "code",
   "execution_count": 29,
   "id": "feadb631",
   "metadata": {},
   "outputs": [
    {
     "data": {
      "text/plain": [
       "array([77, 81, 83, 87, 60])"
      ]
     },
     "execution_count": 29,
     "metadata": {},
     "output_type": "execute_result"
    }
   ],
   "source": [
    "x.sum(axis=1)"
   ]
  },
  {
   "cell_type": "code",
   "execution_count": 32,
   "id": "4c5f423d",
   "metadata": {},
   "outputs": [],
   "source": [
    "y = np.random.randint(1,10,(5,3))"
   ]
  },
  {
   "cell_type": "code",
   "execution_count": 34,
   "id": "0961dbec",
   "metadata": {},
   "outputs": [
    {
     "data": {
      "text/plain": [
       "(array([[45, 24,  8],\n",
       "        [33, 38, 10],\n",
       "        [22, 49, 12],\n",
       "        [22, 36, 29],\n",
       "        [28, 16, 16]]),\n",
       " array([[6, 5, 4],\n",
       "        [8, 4, 1],\n",
       "        [7, 8, 2],\n",
       "        [5, 2, 2],\n",
       "        [8, 9, 6]]))"
      ]
     },
     "execution_count": 34,
     "metadata": {},
     "output_type": "execute_result"
    }
   ],
   "source": [
    "x,y"
   ]
  },
  {
   "cell_type": "code",
   "execution_count": 33,
   "id": "086b6716",
   "metadata": {},
   "outputs": [
    {
     "data": {
      "text/plain": [
       "array([[51, 29, 12],\n",
       "       [41, 42, 11],\n",
       "       [29, 57, 14],\n",
       "       [27, 38, 31],\n",
       "       [36, 25, 22]])"
      ]
     },
     "execution_count": 33,
     "metadata": {},
     "output_type": "execute_result"
    }
   ],
   "source": [
    "x + y"
   ]
  },
  {
   "cell_type": "code",
   "execution_count": 35,
   "id": "d9219972",
   "metadata": {},
   "outputs": [],
   "source": [
    "# hstack - horizontal stack\n",
    "# vstack - vertically stack\n",
    "# c_  - column wise\n",
    "# r_  - row wise\n",
    "# concatenate - can be used for row or column"
   ]
  },
  {
   "cell_type": "code",
   "execution_count": 37,
   "id": "02cab67e",
   "metadata": {},
   "outputs": [
    {
     "data": {
      "text/plain": [
       "array([[45, 24,  8,  2],\n",
       "       [33, 38, 10,  4],\n",
       "       [22, 49, 12,  1],\n",
       "       [22, 36, 29,  5],\n",
       "       [28, 16, 16,  6]])"
      ]
     },
     "execution_count": 37,
     "metadata": {},
     "output_type": "execute_result"
    }
   ],
   "source": [
    "# adding a new column\n",
    "y = np.array([[2],[4],[1],[5],[6]])\n",
    "np.hstack((x,y))"
   ]
  },
  {
   "cell_type": "code",
   "execution_count": 40,
   "id": "f420b6b4",
   "metadata": {},
   "outputs": [],
   "source": [
    "# adding a new row\n",
    "y = np.array([[8,5,3]])\n",
    "x = np.vstack((x,y))"
   ]
  },
  {
   "cell_type": "code",
   "execution_count": 41,
   "id": "dae56831",
   "metadata": {},
   "outputs": [
    {
     "data": {
      "text/plain": [
       "array([[45, 24,  8],\n",
       "       [33, 38, 10],\n",
       "       [22, 49, 12],\n",
       "       [22, 36, 29],\n",
       "       [28, 16, 16],\n",
       "       [ 8,  5,  3]])"
      ]
     },
     "execution_count": 41,
     "metadata": {},
     "output_type": "execute_result"
    }
   ],
   "source": [
    "x"
   ]
  },
  {
   "cell_type": "code",
   "execution_count": 44,
   "id": "80456add",
   "metadata": {},
   "outputs": [],
   "source": [
    "# alternative to hstack\n",
    "z = np.random.randint(1,50,(6,1))\n",
    "x = np.c_[x,z]"
   ]
  },
  {
   "cell_type": "code",
   "execution_count": 45,
   "id": "11467e5a",
   "metadata": {},
   "outputs": [
    {
     "data": {
      "text/plain": [
       "array([[45, 24,  8, 36],\n",
       "       [33, 38, 10, 36],\n",
       "       [22, 49, 12, 38],\n",
       "       [22, 36, 29,  2],\n",
       "       [28, 16, 16, 12],\n",
       "       [ 8,  5,  3, 16]])"
      ]
     },
     "execution_count": 45,
     "metadata": {},
     "output_type": "execute_result"
    }
   ],
   "source": [
    "x"
   ]
  },
  {
   "cell_type": "code",
   "execution_count": 47,
   "id": "ccc056b3",
   "metadata": {},
   "outputs": [],
   "source": [
    "# alternative to vstack\n",
    "z = np.random.randint(1,50,(1,4))\n",
    "x = np.r_[x,z]"
   ]
  },
  {
   "cell_type": "code",
   "execution_count": 48,
   "id": "95259ef2",
   "metadata": {},
   "outputs": [
    {
     "data": {
      "text/plain": [
       "array([[45, 24,  8, 36],\n",
       "       [33, 38, 10, 36],\n",
       "       [22, 49, 12, 38],\n",
       "       [22, 36, 29,  2],\n",
       "       [28, 16, 16, 12],\n",
       "       [ 8,  5,  3, 16],\n",
       "       [15,  3, 30,  2]])"
      ]
     },
     "execution_count": 48,
     "metadata": {},
     "output_type": "execute_result"
    }
   ],
   "source": [
    "x"
   ]
  },
  {
   "cell_type": "code",
   "execution_count": 49,
   "id": "db2662e3",
   "metadata": {},
   "outputs": [],
   "source": [
    "# filter data"
   ]
  },
  {
   "cell_type": "code",
   "execution_count": 50,
   "id": "1206d282",
   "metadata": {},
   "outputs": [
    {
     "data": {
      "text/plain": [
       "array([[ True, False, False,  True],\n",
       "       [ True,  True, False,  True],\n",
       "       [False,  True, False,  True],\n",
       "       [False,  True,  True, False],\n",
       "       [ True, False, False, False],\n",
       "       [False, False, False, False],\n",
       "       [False, False,  True, False]])"
      ]
     },
     "execution_count": 50,
     "metadata": {},
     "output_type": "execute_result"
    }
   ],
   "source": [
    "x > 25"
   ]
  },
  {
   "cell_type": "code",
   "execution_count": 51,
   "id": "da8eef86",
   "metadata": {},
   "outputs": [
    {
     "data": {
      "text/plain": [
       "array([45, 36, 33, 38, 36, 49, 38, 36, 29, 28, 30])"
      ]
     },
     "execution_count": 51,
     "metadata": {},
     "output_type": "execute_result"
    }
   ],
   "source": [
    "x[x > 25]"
   ]
  },
  {
   "cell_type": "code",
   "execution_count": 53,
   "id": "c98a475a",
   "metadata": {},
   "outputs": [
    {
     "data": {
      "text/plain": [
       "array([45, 36, 33, 38, 36, 49, 38, 36, 29,  2, 28, 30,  2])"
      ]
     },
     "execution_count": 53,
     "metadata": {},
     "output_type": "execute_result"
    }
   ],
   "source": [
    "# or condition\n",
    "x[(x > 25) | (x == 2)]"
   ]
  },
  {
   "cell_type": "code",
   "execution_count": 54,
   "id": "ca96ab9b",
   "metadata": {},
   "outputs": [
    {
     "data": {
      "text/plain": [
       "array([36, 33, 38, 36, 38, 36, 29, 28, 30])"
      ]
     },
     "execution_count": 54,
     "metadata": {},
     "output_type": "execute_result"
    }
   ],
   "source": [
    "# and condition\n",
    "x[(x > 25) & (x < 40)]"
   ]
  },
  {
   "cell_type": "code",
   "execution_count": 55,
   "id": "5b2db016",
   "metadata": {},
   "outputs": [
    {
     "data": {
      "text/plain": [
       "array([[2025,   24,    8, 1296],\n",
       "       [1089, 1444,   10, 1296],\n",
       "       [  22, 2401,   12, 1444],\n",
       "       [  22, 1296,  841,    2],\n",
       "       [ 784,   16,   16,   12],\n",
       "       [   8,    5,    3,   16],\n",
       "       [  15,    3,  900,    2]])"
      ]
     },
     "execution_count": 55,
     "metadata": {},
     "output_type": "execute_result"
    }
   ],
   "source": [
    "np.where(x > 25, x ** 2, x)"
   ]
  },
  {
   "cell_type": "code",
   "execution_count": 56,
   "id": "494ac944",
   "metadata": {},
   "outputs": [
    {
     "data": {
      "text/plain": [
       "array([[45, 24,  8, 36],\n",
       "       [33, 38, 10, 36],\n",
       "       [22, 49, 12, 38],\n",
       "       [22, 36, 29,  2],\n",
       "       [28, 16, 16, 12],\n",
       "       [ 8,  5,  3, 16],\n",
       "       [15,  3, 30,  2]])"
      ]
     },
     "execution_count": 56,
     "metadata": {},
     "output_type": "execute_result"
    }
   ],
   "source": [
    "x"
   ]
  },
  {
   "cell_type": "code",
   "execution_count": null,
   "id": "243b8887",
   "metadata": {},
   "outputs": [],
   "source": []
  }
 ],
 "metadata": {
  "kernelspec": {
   "display_name": "Python 3 (ipykernel)",
   "language": "python",
   "name": "python3"
  },
  "language_info": {
   "codemirror_mode": {
    "name": "ipython",
    "version": 3
   },
   "file_extension": ".py",
   "mimetype": "text/x-python",
   "name": "python",
   "nbconvert_exporter": "python",
   "pygments_lexer": "ipython3",
   "version": "3.9.7"
  }
 },
 "nbformat": 4,
 "nbformat_minor": 5
}
