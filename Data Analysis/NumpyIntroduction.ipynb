{
 "cells": [
  {
   "cell_type": "code",
   "execution_count": 1,
   "id": "4ef54f1f",
   "metadata": {},
   "outputs": [],
   "source": [
    "import numpy as np\n",
    "import sys\n",
    "import time"
   ]
  },
  {
   "cell_type": "code",
   "execution_count": 2,
   "id": "e980673f",
   "metadata": {},
   "outputs": [],
   "source": [
    "# Speed / Memory"
   ]
  },
  {
   "cell_type": "code",
   "execution_count": 3,
   "id": "011d136c",
   "metadata": {},
   "outputs": [
    {
     "data": {
      "text/plain": [
       "array([2, 3, 5, 1, 4, 6, 7, 2])"
      ]
     },
     "execution_count": 3,
     "metadata": {},
     "output_type": "execute_result"
    }
   ],
   "source": [
    "np.array([2,3,5,1,4,6,7,2])"
   ]
  },
  {
   "cell_type": "code",
   "execution_count": 4,
   "id": "9fb38811",
   "metadata": {},
   "outputs": [
    {
     "data": {
      "text/plain": [
       "56"
      ]
     },
     "execution_count": 4,
     "metadata": {},
     "output_type": "execute_result"
    }
   ],
   "source": [
    "sys.getsizeof([])"
   ]
  },
  {
   "cell_type": "code",
   "execution_count": 5,
   "id": "6dfa2219",
   "metadata": {},
   "outputs": [
    {
     "data": {
      "text/plain": [
       "104"
      ]
     },
     "execution_count": 5,
     "metadata": {},
     "output_type": "execute_result"
    }
   ],
   "source": [
    "sys.getsizeof(np.array([]))"
   ]
  },
  {
   "cell_type": "code",
   "execution_count": 14,
   "id": "0f6f08d3",
   "metadata": {},
   "outputs": [
    {
     "data": {
      "text/plain": [
       "72"
      ]
     },
     "execution_count": 14,
     "metadata": {},
     "output_type": "execute_result"
    }
   ],
   "source": [
    "data = [3,2]\n",
    "sys.getsizeof(data)"
   ]
  },
  {
   "cell_type": "code",
   "execution_count": 13,
   "id": "80a03a40",
   "metadata": {},
   "outputs": [
    {
     "data": {
      "text/plain": [
       "116"
      ]
     },
     "execution_count": 13,
     "metadata": {},
     "output_type": "execute_result"
    }
   ],
   "source": [
    "sys.getsizeof(np.array([3,2,5]))"
   ]
  },
  {
   "cell_type": "code",
   "execution_count": 17,
   "id": "daba0935",
   "metadata": {},
   "outputs": [
    {
     "data": {
      "text/plain": [
       "800048"
      ]
     },
     "execution_count": 17,
     "metadata": {},
     "output_type": "execute_result"
    }
   ],
   "source": [
    "data = list(range(1,100000))\n",
    "sys.getsizeof(data)"
   ]
  },
  {
   "cell_type": "code",
   "execution_count": 18,
   "id": "0f6f9e90",
   "metadata": {},
   "outputs": [
    {
     "data": {
      "text/plain": [
       "400100"
      ]
     },
     "execution_count": 18,
     "metadata": {},
     "output_type": "execute_result"
    }
   ],
   "source": [
    "data = np.arange(1, 100000)\n",
    "sys.getsizeof(data)"
   ]
  },
  {
   "cell_type": "code",
   "execution_count": 21,
   "id": "ee488029",
   "metadata": {},
   "outputs": [
    {
     "name": "stdout",
     "output_type": "stream",
     "text": [
      "Total time :  2.954627275466919\n"
     ]
    }
   ],
   "source": [
    "x1 = list(range(1,10000000))\n",
    "x2 = list(range(1,10000000))\n",
    "\n",
    "x3 = []\n",
    "\n",
    "start = time.time()\n",
    "\n",
    "for i in range(len(x1)):\n",
    "    x3.append(x1[i] + x2[i])\n",
    "    \n",
    "end = time.time()\n",
    "total = end - start\n",
    "print(\"Total time : \", total)"
   ]
  },
  {
   "cell_type": "code",
   "execution_count": 22,
   "id": "7144d576",
   "metadata": {},
   "outputs": [
    {
     "name": "stdout",
     "output_type": "stream",
     "text": [
      "Total time :  0.11601638793945312\n"
     ]
    }
   ],
   "source": [
    "x1 = np.arange(1,10000000)\n",
    "x2 = np.arange(1,10000000)\n",
    "\n",
    "start = time.time()\n",
    "\n",
    "# Broadcasting\n",
    "x3 = x1 + x2\n",
    "\n",
    "end = time.time()\n",
    "total = end - start\n",
    "print(\"Total time : \", total)"
   ]
  },
  {
   "cell_type": "code",
   "execution_count": null,
   "id": "46ac2b13",
   "metadata": {},
   "outputs": [],
   "source": []
  }
 ],
 "metadata": {
  "kernelspec": {
   "display_name": "Python 3 (ipykernel)",
   "language": "python",
   "name": "python3"
  },
  "language_info": {
   "codemirror_mode": {
    "name": "ipython",
    "version": 3
   },
   "file_extension": ".py",
   "mimetype": "text/x-python",
   "name": "python",
   "nbconvert_exporter": "python",
   "pygments_lexer": "ipython3",
   "version": "3.9.7"
  }
 },
 "nbformat": 4,
 "nbformat_minor": 5
}
