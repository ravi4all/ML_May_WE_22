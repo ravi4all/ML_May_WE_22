{
 "cells": [
  {
   "cell_type": "code",
   "execution_count": 1,
   "id": "9d3784ff",
   "metadata": {},
   "outputs": [],
   "source": [
    "import numpy as np\n",
    "import pandas as pd\n",
    "import matplotlib.pyplot as plt"
   ]
  },
  {
   "cell_type": "code",
   "execution_count": 2,
   "id": "b9d69a0a",
   "metadata": {},
   "outputs": [],
   "source": [
    "df = pd.read_csv('headbrain.csv')"
   ]
  },
  {
   "cell_type": "code",
   "execution_count": 3,
   "id": "b0fbb95f",
   "metadata": {},
   "outputs": [
    {
     "data": {
      "text/html": [
       "<div>\n",
       "<style scoped>\n",
       "    .dataframe tbody tr th:only-of-type {\n",
       "        vertical-align: middle;\n",
       "    }\n",
       "\n",
       "    .dataframe tbody tr th {\n",
       "        vertical-align: top;\n",
       "    }\n",
       "\n",
       "    .dataframe thead th {\n",
       "        text-align: right;\n",
       "    }\n",
       "</style>\n",
       "<table border=\"1\" class=\"dataframe\">\n",
       "  <thead>\n",
       "    <tr style=\"text-align: right;\">\n",
       "      <th></th>\n",
       "      <th>Gender</th>\n",
       "      <th>Age Range</th>\n",
       "      <th>Head Size(cm^3)</th>\n",
       "      <th>Brain Weight(grams)</th>\n",
       "    </tr>\n",
       "  </thead>\n",
       "  <tbody>\n",
       "    <tr>\n",
       "      <th>0</th>\n",
       "      <td>1</td>\n",
       "      <td>1</td>\n",
       "      <td>4512</td>\n",
       "      <td>1530</td>\n",
       "    </tr>\n",
       "    <tr>\n",
       "      <th>1</th>\n",
       "      <td>1</td>\n",
       "      <td>1</td>\n",
       "      <td>3738</td>\n",
       "      <td>1297</td>\n",
       "    </tr>\n",
       "    <tr>\n",
       "      <th>2</th>\n",
       "      <td>1</td>\n",
       "      <td>1</td>\n",
       "      <td>4261</td>\n",
       "      <td>1335</td>\n",
       "    </tr>\n",
       "    <tr>\n",
       "      <th>3</th>\n",
       "      <td>1</td>\n",
       "      <td>1</td>\n",
       "      <td>3777</td>\n",
       "      <td>1282</td>\n",
       "    </tr>\n",
       "    <tr>\n",
       "      <th>4</th>\n",
       "      <td>1</td>\n",
       "      <td>1</td>\n",
       "      <td>4177</td>\n",
       "      <td>1590</td>\n",
       "    </tr>\n",
       "  </tbody>\n",
       "</table>\n",
       "</div>"
      ],
      "text/plain": [
       "   Gender  Age Range  Head Size(cm^3)  Brain Weight(grams)\n",
       "0       1          1             4512                 1530\n",
       "1       1          1             3738                 1297\n",
       "2       1          1             4261                 1335\n",
       "3       1          1             3777                 1282\n",
       "4       1          1             4177                 1590"
      ]
     },
     "execution_count": 3,
     "metadata": {},
     "output_type": "execute_result"
    }
   ],
   "source": [
    "df.head()"
   ]
  },
  {
   "cell_type": "code",
   "execution_count": 4,
   "id": "b939aca9",
   "metadata": {},
   "outputs": [
    {
     "data": {
      "image/png": "[encoded data removed]",
      "text/plain": [
       "<Figure size 720x432 with 1 Axes>"
      ]
     },
     "metadata": {
      "needs_background": "light"
     },
     "output_type": "display_data"
    }
   ],
   "source": [
    "plt.figure(figsize=(10,6))\n",
    "plt.scatter(df['Head Size(cm^3)'], df['Brain Weight(grams)'])\n",
    "plt.show()"
   ]
  },
  {
   "cell_type": "code",
   "execution_count": 5,
   "id": "577b2dcf",
   "metadata": {},
   "outputs": [],
   "source": [
    "X = df['Head Size(cm^3)'].values\n",
    "y = df['Brain Weight(grams)'].values"
   ]
  },
  {
   "cell_type": "code",
   "execution_count": 9,
   "id": "edd91970",
   "metadata": {},
   "outputs": [],
   "source": [
    "X = np.reshape(X, (-1,1))"
   ]
  },
  {
   "cell_type": "code",
   "execution_count": 10,
   "id": "66ef5506",
   "metadata": {},
   "outputs": [],
   "source": [
    "y = np.reshape(y, (-1,1))"
   ]
  },
  {
   "cell_type": "code",
   "execution_count": 11,
   "id": "716fcf0b",
   "metadata": {},
   "outputs": [],
   "source": [
    "# Feature Scaling\n",
    "# - Normalization\n",
    "# - Standardization"
   ]
  },
  {
   "cell_type": "code",
   "execution_count": 12,
   "id": "708e73bc",
   "metadata": {},
   "outputs": [],
   "source": [
    "from sklearn.preprocessing import StandardScaler, MinMaxScaler"
   ]
  },
  {
   "cell_type": "code",
   "execution_count": 13,
   "id": "2ea49cd0",
   "metadata": {},
   "outputs": [],
   "source": [
    "minmax = MinMaxScaler()\n",
    "X = minmax.fit_transform(X)"
   ]
  },
  {
   "cell_type": "code",
   "execution_count": 14,
   "id": "d8bc6ea6",
   "metadata": {},
   "outputs": [],
   "source": [
    "y = minmax.fit_transform(y)"
   ]
  },
  {
   "cell_type": "code",
   "execution_count": 15,
   "id": "4c90791c",
   "metadata": {},
   "outputs": [
    {
     "data": {
      "text/plain": [
       "array([[0.88406512],\n",
       "       [0.50222003],\n",
       "       [0.7602368 ],\n",
       "       [0.52146029],\n",
       "       [0.71879625]])"
      ]
     },
     "execution_count": 15,
     "metadata": {},
     "output_type": "execute_result"
    }
   ],
   "source": [
    "X[:5]"
   ]
  },
  {
   "cell_type": "code",
   "execution_count": 16,
   "id": "37211054",
   "metadata": {},
   "outputs": [
    {
     "data": {
      "text/plain": [
       "array([[0.84558824],\n",
       "       [0.50294118],\n",
       "       [0.55882353],\n",
       "       [0.48088235],\n",
       "       [0.93382353]])"
      ]
     },
     "execution_count": 16,
     "metadata": {},
     "output_type": "execute_result"
    }
   ],
   "source": [
    "y[:5]"
   ]
  },
  {
   "cell_type": "code",
   "execution_count": 29,
   "id": "ddcdb642",
   "metadata": {},
   "outputs": [],
   "source": [
    "def gradientDescent(X,y,epochs,alpha):\n",
    "    slope, inter = 0, 0\n",
    "    n = len(X)\n",
    "    for i in range(epochs):\n",
    "        y_pred = slope * X + inter\n",
    "        loss = y_pred - y\n",
    "        grad_slope = (2/n) * loss.T.dot(X)\n",
    "        grad_inter = (2/n) * np.sum(loss)\n",
    "        slope = slope - grad_slope * alpha\n",
    "        inter = inter - grad_inter * alpha\n",
    "    return slope[0][0], inter"
   ]
  },
  {
   "cell_type": "code",
   "execution_count": 76,
   "id": "2c3f0b5b",
   "metadata": {},
   "outputs": [],
   "source": [
    "epochs = 10000\n",
    "alpha = 0.01\n",
    "slope, inter = gradientDescent(X,y,epochs,alpha)"
   ]
  },
  {
   "cell_type": "code",
   "execution_count": 77,
   "id": "19af4e28",
   "metadata": {},
   "outputs": [
    {
     "data": {
      "text/plain": [
       "(0.7824164623609702, 0.12940368086748408)"
      ]
     },
     "execution_count": 77,
     "metadata": {},
     "output_type": "execute_result"
    }
   ],
   "source": [
    "slope, inter"
   ]
  },
  {
   "cell_type": "code",
   "execution_count": 78,
   "id": "3284dfd8",
   "metadata": {},
   "outputs": [],
   "source": [
    "predictions = []\n",
    "n = len(X)\n",
    "for i in range(n):\n",
    "    y_pred = slope * X[i] + inter\n",
    "    predictions.append(y_pred)"
   ]
  },
  {
   "cell_type": "code",
   "execution_count": 79,
   "id": "7a16f464",
   "metadata": {},
   "outputs": [
    {
     "data": {
      "image/png": "[encoded data removed]",
      "text/plain": [
       "<Figure size 720x432 with 1 Axes>"
      ]
     },
     "metadata": {
      "needs_background": "light"
     },
     "output_type": "display_data"
    }
   ],
   "source": [
    "plt.figure(figsize=(10,6))\n",
    "plt.scatter(X, y)\n",
    "plt.plot(X, predictions, 'r')\n",
    "plt.show()"
   ]
  },
  {
   "cell_type": "code",
   "execution_count": null,
   "id": "f7ab8e7a",
   "metadata": {},
   "outputs": [],
   "source": []
  }
 ],
 "metadata": {
  "kernelspec": {
   "display_name": "Python 3 (ipykernel)",
   "language": "python",
   "name": "python3"
  },
  "language_info": {
   "codemirror_mode": {
    "name": "ipython",
    "version": 3
   },
   "file_extension": ".py",
   "mimetype": "text/x-python",
   "name": "python",
   "nbconvert_exporter": "python",
   "pygments_lexer": "ipython3",
   "version": "3.9.7"
  }
 },
 "nbformat": 4,
 "nbformat_minor": 5
}
