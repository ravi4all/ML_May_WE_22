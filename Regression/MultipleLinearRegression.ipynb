{
 "cells": [
  {
   "cell_type": "code",
   "execution_count": 18,
   "id": "16147a7d",
   "metadata": {},
   "outputs": [],
   "source": [
    "import numpy as np\n",
    "import pandas as pd\n",
    "import matplotlib.pyplot as plt\n",
    "from sklearn.preprocessing import MinMaxScaler"
   ]
  },
  {
   "cell_type": "code",
   "execution_count": 5,
   "id": "bf568bbf",
   "metadata": {},
   "outputs": [],
   "source": [
    "df = pd.read_csv('appl_1980_2014.csv')"
   ]
  },
  {
   "cell_type": "code",
   "execution_count": 6,
   "id": "c936abb4",
   "metadata": {},
   "outputs": [
    {
     "data": {
      "text/html": [
       "<div>\n",
       "<style scoped>\n",
       "    .dataframe tbody tr th:only-of-type {\n",
       "        vertical-align: middle;\n",
       "    }\n",
       "\n",
       "    .dataframe tbody tr th {\n",
       "        vertical-align: top;\n",
       "    }\n",
       "\n",
       "    .dataframe thead th {\n",
       "        text-align: right;\n",
       "    }\n",
       "</style>\n",
       "<table border=\"1\" class=\"dataframe\">\n",
       "  <thead>\n",
       "    <tr style=\"text-align: right;\">\n",
       "      <th></th>\n",
       "      <th>Date</th>\n",
       "      <th>Open</th>\n",
       "      <th>High</th>\n",
       "      <th>Low</th>\n",
       "      <th>Close</th>\n",
       "      <th>Volume</th>\n",
       "      <th>Adj Close</th>\n",
       "    </tr>\n",
       "  </thead>\n",
       "  <tbody>\n",
       "    <tr>\n",
       "      <th>0</th>\n",
       "      <td>2014-07-08</td>\n",
       "      <td>96.27</td>\n",
       "      <td>96.80</td>\n",
       "      <td>93.92</td>\n",
       "      <td>95.35</td>\n",
       "      <td>65130000</td>\n",
       "      <td>95.35</td>\n",
       "    </tr>\n",
       "    <tr>\n",
       "      <th>1</th>\n",
       "      <td>2014-07-07</td>\n",
       "      <td>94.14</td>\n",
       "      <td>95.99</td>\n",
       "      <td>94.10</td>\n",
       "      <td>95.97</td>\n",
       "      <td>56305400</td>\n",
       "      <td>95.97</td>\n",
       "    </tr>\n",
       "    <tr>\n",
       "      <th>2</th>\n",
       "      <td>2014-07-03</td>\n",
       "      <td>93.67</td>\n",
       "      <td>94.10</td>\n",
       "      <td>93.20</td>\n",
       "      <td>94.03</td>\n",
       "      <td>22891800</td>\n",
       "      <td>94.03</td>\n",
       "    </tr>\n",
       "    <tr>\n",
       "      <th>3</th>\n",
       "      <td>2014-07-02</td>\n",
       "      <td>93.87</td>\n",
       "      <td>94.06</td>\n",
       "      <td>93.09</td>\n",
       "      <td>93.48</td>\n",
       "      <td>28420900</td>\n",
       "      <td>93.48</td>\n",
       "    </tr>\n",
       "    <tr>\n",
       "      <th>4</th>\n",
       "      <td>2014-07-01</td>\n",
       "      <td>93.52</td>\n",
       "      <td>94.07</td>\n",
       "      <td>93.13</td>\n",
       "      <td>93.52</td>\n",
       "      <td>38170200</td>\n",
       "      <td>93.52</td>\n",
       "    </tr>\n",
       "  </tbody>\n",
       "</table>\n",
       "</div>"
      ],
      "text/plain": [
       "         Date   Open   High    Low  Close    Volume  Adj Close\n",
       "0  2014-07-08  96.27  96.80  93.92  95.35  65130000      95.35\n",
       "1  2014-07-07  94.14  95.99  94.10  95.97  56305400      95.97\n",
       "2  2014-07-03  93.67  94.10  93.20  94.03  22891800      94.03\n",
       "3  2014-07-02  93.87  94.06  93.09  93.48  28420900      93.48\n",
       "4  2014-07-01  93.52  94.07  93.13  93.52  38170200      93.52"
      ]
     },
     "execution_count": 6,
     "metadata": {},
     "output_type": "execute_result"
    }
   ],
   "source": [
    "df.head()"
   ]
  },
  {
   "cell_type": "code",
   "execution_count": 7,
   "id": "cad60698",
   "metadata": {},
   "outputs": [
    {
     "data": {
      "text/plain": [
       "(8465, 7)"
      ]
     },
     "execution_count": 7,
     "metadata": {},
     "output_type": "execute_result"
    }
   ],
   "source": [
    "df.shape"
   ]
  },
  {
   "cell_type": "code",
   "execution_count": 8,
   "id": "7390f9f4",
   "metadata": {},
   "outputs": [],
   "source": [
    "df['Date'] = pd.to_datetime(df['Date'])"
   ]
  },
  {
   "cell_type": "code",
   "execution_count": 9,
   "id": "d85adc82",
   "metadata": {},
   "outputs": [
    {
     "data": {
      "image/png": "[encoded data removed]",
      "text/plain": [
       "<Figure size 432x288 with 1 Axes>"
      ]
     },
     "metadata": {
      "needs_background": "light"
     },
     "output_type": "display_data"
    }
   ],
   "source": [
    "plt.plot(df['Date'], df['Close'])\n",
    "plt.show()"
   ]
  },
  {
   "cell_type": "code",
   "execution_count": 10,
   "id": "acfad216",
   "metadata": {},
   "outputs": [],
   "source": [
    "X = df[['Open', 'High', 'Low']].values\n",
    "y = df['Close'].values"
   ]
  },
  {
   "cell_type": "code",
   "execution_count": 11,
   "id": "62192f0b",
   "metadata": {},
   "outputs": [
    {
     "data": {
      "text/plain": [
       "array([[96.27, 96.8 , 93.92],\n",
       "       [94.14, 95.99, 94.1 ],\n",
       "       [93.67, 94.1 , 93.2 ],\n",
       "       [93.87, 94.06, 93.09],\n",
       "       [93.52, 94.07, 93.13]])"
      ]
     },
     "execution_count": 11,
     "metadata": {},
     "output_type": "execute_result"
    }
   ],
   "source": [
    "X[:5]"
   ]
  },
  {
   "cell_type": "code",
   "execution_count": 12,
   "id": "4a2c69f4",
   "metadata": {},
   "outputs": [
    {
     "data": {
      "text/plain": [
       "array([95.35, 95.97, 94.03, 93.48, 93.52])"
      ]
     },
     "execution_count": 12,
     "metadata": {},
     "output_type": "execute_result"
    }
   ],
   "source": [
    "y[:5]"
   ]
  },
  {
   "cell_type": "code",
   "execution_count": 13,
   "id": "14a56e5c",
   "metadata": {},
   "outputs": [],
   "source": [
    "n = len(X)\n",
    "X0 = np.zeros(n)"
   ]
  },
  {
   "cell_type": "code",
   "execution_count": 14,
   "id": "b081dba6",
   "metadata": {},
   "outputs": [],
   "source": [
    "X = np.c_[X0, X]"
   ]
  },
  {
   "cell_type": "code",
   "execution_count": 15,
   "id": "ffac8eb6",
   "metadata": {},
   "outputs": [
    {
     "data": {
      "text/plain": [
       "array([[ 0.  , 96.27, 96.8 , 93.92],\n",
       "       [ 0.  , 94.14, 95.99, 94.1 ],\n",
       "       [ 0.  , 93.67, 94.1 , 93.2 ],\n",
       "       [ 0.  , 93.87, 94.06, 93.09],\n",
       "       [ 0.  , 93.52, 94.07, 93.13]])"
      ]
     },
     "execution_count": 15,
     "metadata": {},
     "output_type": "execute_result"
    }
   ],
   "source": [
    "X[:5]"
   ]
  },
  {
   "cell_type": "code",
   "execution_count": 16,
   "id": "d8f9b691",
   "metadata": {},
   "outputs": [],
   "source": [
    "b = np.zeros(X.shape[1])"
   ]
  },
  {
   "cell_type": "code",
   "execution_count": 17,
   "id": "41c1bd35",
   "metadata": {},
   "outputs": [
    {
     "data": {
      "text/plain": [
       "array([0., 0., 0., 0.])"
      ]
     },
     "execution_count": 17,
     "metadata": {},
     "output_type": "execute_result"
    }
   ],
   "source": [
    "b"
   ]
  },
  {
   "cell_type": "code",
   "execution_count": 19,
   "id": "18eb4186",
   "metadata": {},
   "outputs": [],
   "source": [
    "minmax = MinMaxScaler()\n",
    "X_scale = minmax.fit_transform(X)"
   ]
  },
  {
   "cell_type": "code",
   "execution_count": 20,
   "id": "a266361c",
   "metadata": {},
   "outputs": [],
   "source": [
    "y_scale = minmax.fit_transform(y.reshape(-1,1))"
   ]
  },
  {
   "cell_type": "code",
   "execution_count": 21,
   "id": "e4686059",
   "metadata": {},
   "outputs": [
    {
     "data": {
      "text/plain": [
       "array([[0.        , 0.12317551, 0.12346711, 0.12042349],\n",
       "       [0.        , 0.12009432, 0.12229988, 0.1206849 ],\n",
       "       [0.        , 0.11941443, 0.11957634, 0.11937784],\n",
       "       [0.        , 0.11970374, 0.1195187 , 0.11921809],\n",
       "       [0.        , 0.11919744, 0.11953311, 0.11927618]])"
      ]
     },
     "execution_count": 21,
     "metadata": {},
     "output_type": "execute_result"
    }
   ],
   "source": [
    "X_scale[:5]"
   ]
  },
  {
   "cell_type": "code",
   "execution_count": 22,
   "id": "104d8852",
   "metadata": {},
   "outputs": [
    {
     "data": {
      "text/plain": [
       "array([[0.1220518 ],\n",
       "       [0.12294892],\n",
       "       [0.1201418 ],\n",
       "       [0.11934597],\n",
       "       [0.11940385]])"
      ]
     },
     "execution_count": 22,
     "metadata": {},
     "output_type": "execute_result"
    }
   ],
   "source": [
    "y_scale[:5]"
   ]
  },
  {
   "cell_type": "code",
   "execution_count": 23,
   "id": "bd190084",
   "metadata": {},
   "outputs": [],
   "source": [
    "def cost_function(x,y,b):\n",
    "    y_pred = np.dot(x,b)\n",
    "    error = np.sum((y_pred - y) ** 2) / n\n",
    "    return error"
   ]
  },
  {
   "cell_type": "code",
   "execution_count": 30,
   "id": "80490f6e",
   "metadata": {},
   "outputs": [],
   "source": [
    "def gradientDescent(X,y,epochs,alpha):\n",
    "    b = np.zeros(X.shape[1])\n",
    "    n = len(X)\n",
    "    history = []\n",
    "    for i in range(epochs):\n",
    "        y_pred = np.dot(X,b)\n",
    "        loss = y_pred - y\n",
    "        grad_b = (2/n) * loss.T.dot(X)\n",
    "        b = b - grad_b * alpha\n",
    "        err = cost_function(X,y,b)\n",
    "        history.append(err)\n",
    "    return b, history"
   ]
  },
  {
   "cell_type": "code",
   "execution_count": 34,
   "id": "f6116b57",
   "metadata": {},
   "outputs": [],
   "source": [
    "epochs = 100\n",
    "alpha = 0.1\n",
    "coef, loss = gradientDescent(X_scale,y_scale.flatten(),epochs,alpha)"
   ]
  },
  {
   "cell_type": "code",
   "execution_count": 35,
   "id": "d4c65819",
   "metadata": {},
   "outputs": [
    {
     "data": {
      "text/plain": [
       "array([0.        , 0.32394476, 0.32602215, 0.32167653])"
      ]
     },
     "execution_count": 35,
     "metadata": {},
     "output_type": "execute_result"
    }
   ],
   "source": [
    "coef"
   ]
  },
  {
   "cell_type": "code",
   "execution_count": 36,
   "id": "d94ecf9b",
   "metadata": {},
   "outputs": [
    {
     "data": {
      "image/png": "[encoded data removed]",
      "text/plain": [
       "<Figure size 432x288 with 1 Axes>"
      ]
     },
     "metadata": {
      "needs_background": "light"
     },
     "output_type": "display_data"
    }
   ],
   "source": [
    "plt.plot(loss)\n",
    "plt.show()"
   ]
  },
  {
   "cell_type": "code",
   "execution_count": 37,
   "id": "76d0e2d0",
   "metadata": {},
   "outputs": [],
   "source": [
    "test_x = np.array([[0, 0.12317551, 0.12346711, 0.12042349]])"
   ]
  },
  {
   "cell_type": "code",
   "execution_count": 39,
   "id": "3fc55178",
   "metadata": {},
   "outputs": [
    {
     "data": {
      "text/plain": [
       "array([0.11889248])"
      ]
     },
     "execution_count": 39,
     "metadata": {},
     "output_type": "execute_result"
    }
   ],
   "source": [
    "np.dot(test_x, coef)"
   ]
  },
  {
   "cell_type": "code",
   "execution_count": 41,
   "id": "4460a613",
   "metadata": {},
   "outputs": [
    {
     "data": {
      "text/plain": [
       "array([[93.1665955]])"
      ]
     },
     "execution_count": 41,
     "metadata": {},
     "output_type": "execute_result"
    }
   ],
   "source": [
    "minmax.inverse_transform([np.dot(test_x, coef)])"
   ]
  },
  {
   "cell_type": "code",
   "execution_count": 42,
   "id": "14bc15ef",
   "metadata": {},
   "outputs": [],
   "source": [
    "y_pred = np.dot(X_scale, coef)"
   ]
  },
  {
   "cell_type": "code",
   "execution_count": 43,
   "id": "200b8021",
   "metadata": {},
   "outputs": [
    {
     "data": {
      "text/plain": [
       "array([0.11889248, 0.11759789, 0.11606926, 0.1160928 , 0.11595218])"
      ]
     },
     "execution_count": 43,
     "metadata": {},
     "output_type": "execute_result"
    }
   ],
   "source": [
    "y_pred[:5]"
   ]
  },
  {
   "cell_type": "code",
   "execution_count": 44,
   "id": "f36909b6",
   "metadata": {},
   "outputs": [],
   "source": [
    "y_pred = minmax.inverse_transform([y_pred])"
   ]
  },
  {
   "cell_type": "code",
   "execution_count": 45,
   "id": "650e639c",
   "metadata": {},
   "outputs": [
    {
     "data": {
      "text/plain": [
       "array([[93.16659492, 92.27190336, 91.21546731, ..., 24.84241271,\n",
       "        26.79169287, 28.20344087]])"
      ]
     },
     "execution_count": 45,
     "metadata": {},
     "output_type": "execute_result"
    }
   ],
   "source": [
    "y_pred[:5]"
   ]
  },
  {
   "cell_type": "code",
   "execution_count": null,
   "id": "ac283729",
   "metadata": {},
   "outputs": [],
   "source": []
  }
 ],
 "metadata": {
  "kernelspec": {
   "display_name": "Python 3 (ipykernel)",
   "language": "python",
   "name": "python3"
  },
  "language_info": {
   "codemirror_mode": {
    "name": "ipython",
    "version": 3
   },
   "file_extension": ".py",
   "mimetype": "text/x-python",
   "name": "python",
   "nbconvert_exporter": "python",
   "pygments_lexer": "ipython3",
   "version": "3.9.7"
  }
 },
 "nbformat": 4,
 "nbformat_minor": 5
}
