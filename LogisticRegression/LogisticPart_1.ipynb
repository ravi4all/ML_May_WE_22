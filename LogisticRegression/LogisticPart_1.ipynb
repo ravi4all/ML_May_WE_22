{
 "cells": [
  {
   "cell_type": "code",
   "execution_count": 1,
   "id": "09908742",
   "metadata": {},
   "outputs": [],
   "source": [
    "import numpy as np"
   ]
  },
  {
   "cell_type": "code",
   "execution_count": 4,
   "id": "c73d3863",
   "metadata": {},
   "outputs": [],
   "source": [
    "def logistic(row, coef):\n",
    "    x = coef[0]\n",
    "    for i in range(len(row) - 1):\n",
    "        x += coef[i+1] * row[i]\n",
    "    return 1 / (1 + np.exp(-x))"
   ]
  },
  {
   "cell_type": "code",
   "execution_count": 3,
   "id": "098ef33a",
   "metadata": {},
   "outputs": [],
   "source": [
    "coef = [-0.406605464, 0.852573316, -1.104746259]\n",
    "\n",
    "dataset = [\n",
    "        [2.7810836,2.550537003,0],\n",
    "        [1.465489372,2.362125076,0],\n",
    "        [3.396561688,4.400293529,0],\n",
    "        [1.38807019,1.850220317,0],\n",
    "        [3.06407232,3.005305973,0],\n",
    "        [7.627531214,2.759262235,1],\n",
    "        [5.332441248,2.088626775,1],\n",
    "        [6.922596716,1.77106367,1],\n",
    "        [8.675418651,-0.242068655,1],\n",
    "        [7.673756466,3.508563011,1]\n",
    "    ]"
   ]
  },
  {
   "cell_type": "code",
   "execution_count": 5,
   "id": "5b325aa8",
   "metadata": {},
   "outputs": [
    {
     "name": "stdout",
     "output_type": "stream",
     "text": [
      "Actual : 0, Pred : 0.2987569855650975, Final Pred : 0\n",
      "Actual : 0, Pred : 0.14595105593031163, Final Pred : 0\n",
      "Actual : 0, Pred : 0.08533326519733725, Final Pred : 0\n",
      "Actual : 0, Pred : 0.21973731424800344, Final Pred : 0\n",
      "Actual : 0, Pred : 0.24705900008926596, Final Pred : 0\n",
      "Actual : 1, Pred : 0.9547021347460022, Final Pred : 1\n",
      "Actual : 1, Pred : 0.8620341905282771, Final Pred : 1\n",
      "Actual : 1, Pred : 0.9717729050420985, Final Pred : 1\n",
      "Actual : 1, Pred : 0.9992954520878627, Final Pred : 1\n",
      "Actual : 1, Pred : 0.9054893228110497, Final Pred : 1\n"
     ]
    }
   ],
   "source": [
    "for row in dataset:\n",
    "    pred = logistic(row, coef)\n",
    "    print(\"Actual : {}, Pred : {}, Final Pred : {}\".format(row[-1], pred, round(pred)))"
   ]
  },
  {
   "cell_type": "code",
   "execution_count": null,
   "id": "c09f5a21",
   "metadata": {},
   "outputs": [],
   "source": []
  }
 ],
 "metadata": {
  "kernelspec": {
   "display_name": "Python 3 (ipykernel)",
   "language": "python",
   "name": "python3"
  },
  "language_info": {
   "codemirror_mode": {
    "name": "ipython",
    "version": 3
   },
   "file_extension": ".py",
   "mimetype": "text/x-python",
   "name": "python",
   "nbconvert_exporter": "python",
   "pygments_lexer": "ipython3",
   "version": "3.9.7"
  }
 },
 "nbformat": 4,
 "nbformat_minor": 5
}
