{
 "cells": [
  {
   "cell_type": "code",
   "execution_count": 1,
   "id": "58d0b935",
   "metadata": {},
   "outputs": [],
   "source": [
    "import numpy as np\n",
    "import matplotlib.pyplot as plt"
   ]
  },
  {
   "cell_type": "code",
   "execution_count": 2,
   "id": "61e1c2f6",
   "metadata": {},
   "outputs": [],
   "source": [
    "X = np.array([\n",
    "    [-3,6,-1],\n",
    "    [4,1,-1],\n",
    "    [1,6,-1],\n",
    "    [1,5,-1],\n",
    "    [6,2,-1]\n",
    "])\n",
    "\n",
    "y = np.array([-1,-1,1,1,1])"
   ]
  },
  {
   "cell_type": "code",
   "execution_count": 3,
   "id": "60d7503c",
   "metadata": {},
   "outputs": [
    {
     "data": {
      "image/png": "[encoded data removed]",
      "text/plain": [
       "<Figure size 432x288 with 1 Axes>"
      ]
     },
     "metadata": {
      "needs_background": "light"
     },
     "output_type": "display_data"
    }
   ],
   "source": [
    "plt.scatter(X[:,0], X[:,1], c=y)\n",
    "plt.show()"
   ]
  },
  {
   "cell_type": "code",
   "execution_count": 9,
   "id": "4cf23924",
   "metadata": {},
   "outputs": [],
   "source": [
    "def svm(x,y,epochs,alpha):\n",
    "    w = np.zeros(x.shape[1])\n",
    "    errors = []\n",
    "    for i in range(1,epochs):\n",
    "        error = 1\n",
    "        for j in range(len(x)):\n",
    "            # Misclassification condition\n",
    "            if y[j] * (np.dot(x[j],w)) < 1:\n",
    "                w = w + alpha * ((y[j] * x[j]) + (-2 * (1/i) * w))\n",
    "                error = 1\n",
    "            else:\n",
    "                w = w + alpha * (-2 * (1/i) * w)\n",
    "                error = 0\n",
    "            errors.append(error)\n",
    "    return errors, w"
   ]
  },
  {
   "cell_type": "code",
   "execution_count": 16,
   "id": "f726cd1a",
   "metadata": {},
   "outputs": [],
   "source": [
    "epochs = 10000\n",
    "alpha = 0.01\n",
    "errors, weights = svm(X, y, epochs, alpha)"
   ]
  },
  {
   "cell_type": "code",
   "execution_count": 17,
   "id": "7b3d1805",
   "metadata": {},
   "outputs": [
    {
     "data": {
      "image/png": "[encoded data removed]",
      "text/plain": [
       "<Figure size 432x288 with 1 Axes>"
      ]
     },
     "metadata": {
      "needs_background": "light"
     },
     "output_type": "display_data"
    }
   ],
   "source": [
    "plt.plot(errors, '|')\n",
    "plt.ylim(0.5,1.5)\n",
    "plt.show()"
   ]
  },
  {
   "cell_type": "code",
   "execution_count": null,
   "id": "ae5d6e6d",
   "metadata": {},
   "outputs": [],
   "source": []
  }
 ],
 "metadata": {
  "kernelspec": {
   "display_name": "Python 3 (ipykernel)",
   "language": "python",
   "name": "python3"
  },
  "language_info": {
   "codemirror_mode": {
    "name": "ipython",
    "version": 3
   },
   "file_extension": ".py",
   "mimetype": "text/x-python",
   "name": "python",
   "nbconvert_exporter": "python",
   "pygments_lexer": "ipython3",
   "version": "3.9.7"
  }
 },
 "nbformat": 4,
 "nbformat_minor": 5
}
