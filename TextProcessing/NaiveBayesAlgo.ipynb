{
 "cells": [
  {
   "cell_type": "code",
   "execution_count": 1,
   "id": "823e5729",
   "metadata": {},
   "outputs": [],
   "source": [
    "import numpy as np\n",
    "import pandas as pd"
   ]
  },
  {
   "cell_type": "code",
   "execution_count": 2,
   "id": "33007e83",
   "metadata": {},
   "outputs": [],
   "source": [
    "data = {\n",
    "    \"height\" : [5.8,4.5,5.0,5.2,6.1,5.8,5.9,5.10,5.7,6.2,5.2,5.4,5.9],\n",
    "    \"weight\" : [75,47,51,54,80,77,90,70,58,91,49,61,73],\n",
    "    \"gender\" : ['m','f','f','f','m','m','m','m','f','m','f','f','m']\n",
    "}"
   ]
  },
  {
   "cell_type": "code",
   "execution_count": 3,
   "id": "d26feb49",
   "metadata": {},
   "outputs": [],
   "source": [
    "df = pd.DataFrame(data)"
   ]
  },
  {
   "cell_type": "code",
   "execution_count": 5,
   "id": "b76b31c2",
   "metadata": {},
   "outputs": [
    {
     "data": {
      "text/html": [
       "<div>\n",
       "<style scoped>\n",
       "    .dataframe tbody tr th:only-of-type {\n",
       "        vertical-align: middle;\n",
       "    }\n",
       "\n",
       "    .dataframe tbody tr th {\n",
       "        vertical-align: top;\n",
       "    }\n",
       "\n",
       "    .dataframe thead th {\n",
       "        text-align: right;\n",
       "    }\n",
       "</style>\n",
       "<table border=\"1\" class=\"dataframe\">\n",
       "  <thead>\n",
       "    <tr style=\"text-align: right;\">\n",
       "      <th></th>\n",
       "      <th>height</th>\n",
       "      <th>weight</th>\n",
       "      <th>gender</th>\n",
       "    </tr>\n",
       "  </thead>\n",
       "  <tbody>\n",
       "    <tr>\n",
       "      <th>0</th>\n",
       "      <td>5.8</td>\n",
       "      <td>75</td>\n",
       "      <td>m</td>\n",
       "    </tr>\n",
       "    <tr>\n",
       "      <th>1</th>\n",
       "      <td>4.5</td>\n",
       "      <td>47</td>\n",
       "      <td>f</td>\n",
       "    </tr>\n",
       "    <tr>\n",
       "      <th>2</th>\n",
       "      <td>5.0</td>\n",
       "      <td>51</td>\n",
       "      <td>f</td>\n",
       "    </tr>\n",
       "    <tr>\n",
       "      <th>3</th>\n",
       "      <td>5.2</td>\n",
       "      <td>54</td>\n",
       "      <td>f</td>\n",
       "    </tr>\n",
       "    <tr>\n",
       "      <th>4</th>\n",
       "      <td>6.1</td>\n",
       "      <td>80</td>\n",
       "      <td>m</td>\n",
       "    </tr>\n",
       "  </tbody>\n",
       "</table>\n",
       "</div>"
      ],
      "text/plain": [
       "   height  weight gender\n",
       "0     5.8      75      m\n",
       "1     4.5      47      f\n",
       "2     5.0      51      f\n",
       "3     5.2      54      f\n",
       "4     6.1      80      m"
      ]
     },
     "execution_count": 5,
     "metadata": {},
     "output_type": "execute_result"
    }
   ],
   "source": [
    "df.head()"
   ]
  },
  {
   "cell_type": "code",
   "execution_count": 6,
   "id": "3d2e90ac",
   "metadata": {},
   "outputs": [],
   "source": [
    "total = df['gender'].count()"
   ]
  },
  {
   "cell_type": "code",
   "execution_count": 7,
   "id": "09739c93",
   "metadata": {},
   "outputs": [
    {
     "data": {
      "text/plain": [
       "13"
      ]
     },
     "execution_count": 7,
     "metadata": {},
     "output_type": "execute_result"
    }
   ],
   "source": [
    "total"
   ]
  },
  {
   "cell_type": "code",
   "execution_count": 11,
   "id": "06968082",
   "metadata": {},
   "outputs": [],
   "source": [
    "male_count = df[df['gender'] == 'm']['gender'].count()"
   ]
  },
  {
   "cell_type": "code",
   "execution_count": 12,
   "id": "c19fb6a9",
   "metadata": {},
   "outputs": [],
   "source": [
    "female_count = df[df['gender'] == 'f']['gender'].count()"
   ]
  },
  {
   "cell_type": "code",
   "execution_count": 13,
   "id": "fd84068e",
   "metadata": {},
   "outputs": [
    {
     "data": {
      "text/plain": [
       "(7, 6)"
      ]
     },
     "execution_count": 13,
     "metadata": {},
     "output_type": "execute_result"
    }
   ],
   "source": [
    "male_count, female_count"
   ]
  },
  {
   "cell_type": "code",
   "execution_count": 14,
   "id": "b1c05c0d",
   "metadata": {},
   "outputs": [],
   "source": [
    "male_prob = male_count / total\n",
    "female_prob = female_count / total"
   ]
  },
  {
   "cell_type": "code",
   "execution_count": 15,
   "id": "212afed3",
   "metadata": {},
   "outputs": [
    {
     "data": {
      "text/plain": [
       "(0.5384615384615384, 0.46153846153846156)"
      ]
     },
     "execution_count": 15,
     "metadata": {},
     "output_type": "execute_result"
    }
   ],
   "source": [
    "male_prob, female_prob"
   ]
  },
  {
   "cell_type": "code",
   "execution_count": 32,
   "id": "9e06029c",
   "metadata": {},
   "outputs": [],
   "source": [
    "test_df = pd.DataFrame({'height' : [5.9], 'weight' : [70]})"
   ]
  },
  {
   "cell_type": "code",
   "execution_count": 33,
   "id": "8e026320",
   "metadata": {},
   "outputs": [
    {
     "data": {
      "text/html": [
       "<div>\n",
       "<style scoped>\n",
       "    .dataframe tbody tr th:only-of-type {\n",
       "        vertical-align: middle;\n",
       "    }\n",
       "\n",
       "    .dataframe tbody tr th {\n",
       "        vertical-align: top;\n",
       "    }\n",
       "\n",
       "    .dataframe thead th {\n",
       "        text-align: right;\n",
       "    }\n",
       "</style>\n",
       "<table border=\"1\" class=\"dataframe\">\n",
       "  <thead>\n",
       "    <tr style=\"text-align: right;\">\n",
       "      <th></th>\n",
       "      <th>height</th>\n",
       "      <th>weight</th>\n",
       "    </tr>\n",
       "  </thead>\n",
       "  <tbody>\n",
       "    <tr>\n",
       "      <th>0</th>\n",
       "      <td>5.9</td>\n",
       "      <td>70</td>\n",
       "    </tr>\n",
       "  </tbody>\n",
       "</table>\n",
       "</div>"
      ],
      "text/plain": [
       "   height  weight\n",
       "0     5.9      70"
      ]
     },
     "execution_count": 33,
     "metadata": {},
     "output_type": "execute_result"
    }
   ],
   "source": [
    "test_df"
   ]
  },
  {
   "cell_type": "code",
   "execution_count": 20,
   "id": "3a8e046d",
   "metadata": {},
   "outputs": [
    {
     "data": {
      "text/html": [
       "<div>\n",
       "<style scoped>\n",
       "    .dataframe tbody tr th:only-of-type {\n",
       "        vertical-align: middle;\n",
       "    }\n",
       "\n",
       "    .dataframe tbody tr th {\n",
       "        vertical-align: top;\n",
       "    }\n",
       "\n",
       "    .dataframe thead th {\n",
       "        text-align: right;\n",
       "    }\n",
       "</style>\n",
       "<table border=\"1\" class=\"dataframe\">\n",
       "  <thead>\n",
       "    <tr style=\"text-align: right;\">\n",
       "      <th></th>\n",
       "      <th>height</th>\n",
       "      <th>weight</th>\n",
       "    </tr>\n",
       "    <tr>\n",
       "      <th>gender</th>\n",
       "      <th></th>\n",
       "      <th></th>\n",
       "    </tr>\n",
       "  </thead>\n",
       "  <tbody>\n",
       "    <tr>\n",
       "      <th>f</th>\n",
       "      <td>5.166667</td>\n",
       "      <td>53.333333</td>\n",
       "    </tr>\n",
       "    <tr>\n",
       "      <th>m</th>\n",
       "      <td>5.828571</td>\n",
       "      <td>79.428571</td>\n",
       "    </tr>\n",
       "  </tbody>\n",
       "</table>\n",
       "</div>"
      ],
      "text/plain": [
       "          height     weight\n",
       "gender                     \n",
       "f       5.166667  53.333333\n",
       "m       5.828571  79.428571"
      ]
     },
     "execution_count": 20,
     "metadata": {},
     "output_type": "execute_result"
    }
   ],
   "source": [
    "df.groupby('gender').mean()"
   ]
  },
  {
   "cell_type": "code",
   "execution_count": 21,
   "id": "0b9fb567",
   "metadata": {},
   "outputs": [],
   "source": [
    "mean = df.groupby('gender').mean()"
   ]
  },
  {
   "cell_type": "code",
   "execution_count": 22,
   "id": "87941aeb",
   "metadata": {},
   "outputs": [],
   "source": [
    "var = df.groupby('gender').var()"
   ]
  },
  {
   "cell_type": "code",
   "execution_count": 23,
   "id": "241322cf",
   "metadata": {},
   "outputs": [
    {
     "data": {
      "text/html": [
       "<div>\n",
       "<style scoped>\n",
       "    .dataframe tbody tr th:only-of-type {\n",
       "        vertical-align: middle;\n",
       "    }\n",
       "\n",
       "    .dataframe tbody tr th {\n",
       "        vertical-align: top;\n",
       "    }\n",
       "\n",
       "    .dataframe thead th {\n",
       "        text-align: right;\n",
       "    }\n",
       "</style>\n",
       "<table border=\"1\" class=\"dataframe\">\n",
       "  <thead>\n",
       "    <tr style=\"text-align: right;\">\n",
       "      <th></th>\n",
       "      <th>height</th>\n",
       "      <th>weight</th>\n",
       "    </tr>\n",
       "    <tr>\n",
       "      <th>gender</th>\n",
       "      <th></th>\n",
       "      <th></th>\n",
       "    </tr>\n",
       "  </thead>\n",
       "  <tbody>\n",
       "    <tr>\n",
       "      <th>f</th>\n",
       "      <td>0.162667</td>\n",
       "      <td>29.066667</td>\n",
       "    </tr>\n",
       "    <tr>\n",
       "      <th>m</th>\n",
       "      <td>0.125714</td>\n",
       "      <td>66.952381</td>\n",
       "    </tr>\n",
       "  </tbody>\n",
       "</table>\n",
       "</div>"
      ],
      "text/plain": [
       "          height     weight\n",
       "gender                     \n",
       "f       0.162667  29.066667\n",
       "m       0.125714  66.952381"
      ]
     },
     "execution_count": 23,
     "metadata": {},
     "output_type": "execute_result"
    }
   ],
   "source": [
    "var"
   ]
  },
  {
   "cell_type": "code",
   "execution_count": 24,
   "id": "a3b67e0f",
   "metadata": {},
   "outputs": [],
   "source": [
    "m_mean_h = mean['height'][1]\n",
    "m_mean_w = mean['weight'][1]\n",
    "m_var_h = var['height'][1]\n",
    "m_var_w = var['weight'][1]"
   ]
  },
  {
   "cell_type": "code",
   "execution_count": 25,
   "id": "d9140663",
   "metadata": {},
   "outputs": [],
   "source": [
    "f_mean_h = mean['height'][0]\n",
    "f_mean_w = mean['weight'][0]\n",
    "f_var_h = var['height'][0]\n",
    "f_var_w = var['weight'][0]"
   ]
  },
  {
   "cell_type": "code",
   "execution_count": 26,
   "id": "695f783c",
   "metadata": {},
   "outputs": [],
   "source": [
    "def likelihood(x, mean, var):\n",
    "    return (1 / (np.sqrt(2 * np.pi * var))) * (np.exp(-((x-mean) ** 2) / (2 * var)))"
   ]
  },
  {
   "cell_type": "code",
   "execution_count": 34,
   "id": "f7fc0fb1",
   "metadata": {},
   "outputs": [],
   "source": [
    "male_pred = likelihood(test_df['height'], m_mean_h, m_var_h) * likelihood(test_df['weight'], m_mean_w, m_var_w) * male_prob"
   ]
  },
  {
   "cell_type": "code",
   "execution_count": 35,
   "id": "b977b6fa",
   "metadata": {},
   "outputs": [],
   "source": [
    "female_pred = likelihood(test_df['height'], f_mean_h, f_var_h) * likelihood(test_df['weight'], f_mean_w, f_var_w) * female_prob"
   ]
  },
  {
   "cell_type": "code",
   "execution_count": 36,
   "id": "b3c15caf",
   "metadata": {},
   "outputs": [
    {
     "data": {
      "text/plain": [
       "0    True\n",
       "dtype: bool"
      ]
     },
     "execution_count": 36,
     "metadata": {},
     "output_type": "execute_result"
    }
   ],
   "source": [
    "male_pred > female_pred"
   ]
  },
  {
   "cell_type": "code",
   "execution_count": null,
   "id": "3b50f295",
   "metadata": {},
   "outputs": [],
   "source": []
  }
 ],
 "metadata": {
  "kernelspec": {
   "display_name": "Python 3 (ipykernel)",
   "language": "python",
   "name": "python3"
  },
  "language_info": {
   "codemirror_mode": {
    "name": "ipython",
    "version": 3
   },
   "file_extension": ".py",
   "mimetype": "text/x-python",
   "name": "python",
   "nbconvert_exporter": "python",
   "pygments_lexer": "ipython3",
   "version": "3.9.7"
  }
 },
 "nbformat": 4,
 "nbformat_minor": 5
}
