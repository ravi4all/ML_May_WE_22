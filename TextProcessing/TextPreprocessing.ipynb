{
 "cells": [
  {
   "cell_type": "code",
   "execution_count": 1,
   "id": "8c79620f",
   "metadata": {},
   "outputs": [],
   "source": [
    "# NLTK - Natural Language Toolkit"
   ]
  },
  {
   "cell_type": "code",
   "execution_count": 2,
   "id": "4c15b812",
   "metadata": {},
   "outputs": [],
   "source": [
    "import nltk\n",
    "from nltk.tokenize import word_tokenize\n",
    "from nltk.corpus import stopwords\n",
    "from nltk.stem import WordNetLemmatizer\n",
    "from sklearn.feature_extraction.text import TfidfVectorizer"
   ]
  },
  {
   "cell_type": "code",
   "execution_count": 3,
   "id": "4caf10c7",
   "metadata": {},
   "outputs": [],
   "source": [
    "import string"
   ]
  },
  {
   "cell_type": "code",
   "execution_count": 4,
   "id": "602b33bb",
   "metadata": {},
   "outputs": [],
   "source": [
    "documents = [\n",
    "    \"the movie was very boring and I watched it till interval only... don't waste your money\",\n",
    "    \"I really enjoyed the movie and the acting was great...!!!\",\n",
    "    \"Too much wastage of money for this kind of movie... never watch this type of movie again\"\n",
    "]"
   ]
  },
  {
   "cell_type": "code",
   "execution_count": 5,
   "id": "6b361ea7",
   "metadata": {},
   "outputs": [
    {
     "data": {
      "text/plain": [
       "'!\"#$%&\\'()*+,-./:;<=>?@[\\\\]^_`{|}~'"
      ]
     },
     "execution_count": 5,
     "metadata": {},
     "output_type": "execute_result"
    }
   ],
   "source": [
    "string.punctuation"
   ]
  },
  {
   "cell_type": "code",
   "execution_count": 6,
   "id": "79d9f4d3",
   "metadata": {},
   "outputs": [
    {
     "name": "stdout",
     "output_type": "stream",
     "text": [
      "['the', 'movie', 'was', 'very', 'boring', 'and', 'I', 'watched', 'it', 'till', 'interval', 'only', '...', 'do', \"n't\", 'waste', 'your', 'money']\n"
     ]
    }
   ],
   "source": [
    "print(word_tokenize(documents[0]))"
   ]
  },
  {
   "cell_type": "code",
   "execution_count": 7,
   "id": "6e01a487",
   "metadata": {},
   "outputs": [
    {
     "name": "stdout",
     "output_type": "stream",
     "text": [
      "{97: None, 98: None, 99: None}\n"
     ]
    }
   ],
   "source": [
    "print(str.maketrans('','',\"abc\"))"
   ]
  },
  {
   "cell_type": "code",
   "execution_count": 8,
   "id": "5639ce8c",
   "metadata": {},
   "outputs": [
    {
     "name": "stdout",
     "output_type": "stream",
     "text": [
      "{33: None, 34: None, 35: None, 36: None, 37: None, 38: None, 39: None, 40: None, 41: None, 42: None, 43: None, 44: None, 45: None, 46: None, 47: None, 58: None, 59: None, 60: None, 61: None, 62: None, 63: None, 64: None, 91: None, 92: None, 93: None, 94: None, 95: None, 96: None, 123: None, 124: None, 125: None, 126: None}\n"
     ]
    }
   ],
   "source": [
    "print(str.maketrans('','',string.punctuation))"
   ]
  },
  {
   "cell_type": "code",
   "execution_count": 9,
   "id": "0b9df216",
   "metadata": {},
   "outputs": [],
   "source": [
    "table = str.maketrans('','',string.punctuation)"
   ]
  },
  {
   "cell_type": "code",
   "execution_count": 10,
   "id": "82f982b8",
   "metadata": {},
   "outputs": [
    {
     "data": {
      "text/plain": [
       "'the movie was very boring and I watched it till interval only dont waste your money'"
      ]
     },
     "execution_count": 10,
     "metadata": {},
     "output_type": "execute_result"
    }
   ],
   "source": [
    "documents[0].translate(table)"
   ]
  },
  {
   "cell_type": "code",
   "execution_count": 11,
   "id": "af2bb2e5",
   "metadata": {},
   "outputs": [],
   "source": [
    "for i in range(len(documents)):\n",
    "    documents[i] = documents[i].translate(table).lower()"
   ]
  },
  {
   "cell_type": "code",
   "execution_count": 12,
   "id": "7463fe32",
   "metadata": {},
   "outputs": [
    {
     "data": {
      "text/plain": [
       "['the movie was very boring and i watched it till interval only dont waste your money',\n",
       " 'i really enjoyed the movie and the acting was great',\n",
       " 'too much wastage of money for this kind of movie never watch this type of movie again']"
      ]
     },
     "execution_count": 12,
     "metadata": {},
     "output_type": "execute_result"
    }
   ],
   "source": [
    "documents"
   ]
  },
  {
   "cell_type": "code",
   "execution_count": 13,
   "id": "77393d7e",
   "metadata": {},
   "outputs": [],
   "source": [
    "tokens = []\n",
    "for i in range(len(documents)):\n",
    "    tokens.append(word_tokenize(documents[i]))"
   ]
  },
  {
   "cell_type": "code",
   "execution_count": 14,
   "id": "fa578c5b",
   "metadata": {},
   "outputs": [
    {
     "name": "stdout",
     "output_type": "stream",
     "text": [
      "[['the', 'movie', 'was', 'very', 'boring', 'and', 'i', 'watched', 'it', 'till', 'interval', 'only', 'dont', 'waste', 'your', 'money'], ['i', 'really', 'enjoyed', 'the', 'movie', 'and', 'the', 'acting', 'was', 'great'], ['too', 'much', 'wastage', 'of', 'money', 'for', 'this', 'kind', 'of', 'movie', 'never', 'watch', 'this', 'type', 'of', 'movie', 'again']]\n"
     ]
    }
   ],
   "source": [
    "print(tokens)"
   ]
  },
  {
   "cell_type": "code",
   "execution_count": 15,
   "id": "c1402208",
   "metadata": {},
   "outputs": [
    {
     "name": "stdout",
     "output_type": "stream",
     "text": [
      "['i', 'me', 'my', 'myself', 'we', 'our', 'ours', 'ourselves', 'you', \"you're\", \"you've\", \"you'll\", \"you'd\", 'your', 'yours', 'yourself', 'yourselves', 'he', 'him', 'his', 'himself', 'she', \"she's\", 'her', 'hers', 'herself', 'it', \"it's\", 'its', 'itself', 'they', 'them', 'their', 'theirs', 'themselves', 'what', 'which', 'who', 'whom', 'this', 'that', \"that'll\", 'these', 'those', 'am', 'is', 'are', 'was', 'were', 'be', 'been', 'being', 'have', 'has', 'had', 'having', 'do', 'does', 'did', 'doing', 'a', 'an', 'the', 'and', 'but', 'if', 'or', 'because', 'as', 'until', 'while', 'of', 'at', 'by', 'for', 'with', 'about', 'against', 'between', 'into', 'through', 'during', 'before', 'after', 'above', 'below', 'to', 'from', 'up', 'down', 'in', 'out', 'on', 'off', 'over', 'under', 'again', 'further', 'then', 'once', 'here', 'there', 'when', 'where', 'why', 'how', 'all', 'any', 'both', 'each', 'few', 'more', 'most', 'other', 'some', 'such', 'no', 'nor', 'not', 'only', 'own', 'same', 'so', 'than', 'too', 'very', 's', 't', 'can', 'will', 'just', 'don', \"don't\", 'should', \"should've\", 'now', 'd', 'll', 'm', 'o', 're', 've', 'y', 'ain', 'aren', \"aren't\", 'couldn', \"couldn't\", 'didn', \"didn't\", 'doesn', \"doesn't\", 'hadn', \"hadn't\", 'hasn', \"hasn't\", 'haven', \"haven't\", 'isn', \"isn't\", 'ma', 'mightn', \"mightn't\", 'mustn', \"mustn't\", 'needn', \"needn't\", 'shan', \"shan't\", 'shouldn', \"shouldn't\", 'wasn', \"wasn't\", 'weren', \"weren't\", 'won', \"won't\", 'wouldn', \"wouldn't\"]\n"
     ]
    }
   ],
   "source": [
    "print(stopwords.words(\"english\"))"
   ]
  },
  {
   "cell_type": "code",
   "execution_count": 16,
   "id": "b421444b",
   "metadata": {},
   "outputs": [],
   "source": [
    "eng_stopwords = stopwords.words(\"english\")\n",
    "\n",
    "wordsList = []\n",
    "for tokenList in tokens:\n",
    "    words = []\n",
    "    for token in tokenList:\n",
    "        if token not in eng_stopwords:\n",
    "            words.append(token)\n",
    "    wordsList.append(words)"
   ]
  },
  {
   "cell_type": "code",
   "execution_count": 17,
   "id": "52653203",
   "metadata": {},
   "outputs": [
    {
     "name": "stdout",
     "output_type": "stream",
     "text": [
      "[['movie', 'boring', 'watched', 'till', 'interval', 'dont', 'waste', 'money'], ['really', 'enjoyed', 'movie', 'acting', 'great'], ['much', 'wastage', 'money', 'kind', 'movie', 'never', 'watch', 'type', 'movie']]\n"
     ]
    }
   ],
   "source": [
    "print(wordsList)"
   ]
  },
  {
   "cell_type": "code",
   "execution_count": 18,
   "id": "898e6037",
   "metadata": {},
   "outputs": [],
   "source": [
    "wnet = WordNetLemmatizer()"
   ]
  },
  {
   "cell_type": "code",
   "execution_count": 19,
   "id": "b51a5ff0",
   "metadata": {},
   "outputs": [
    {
     "data": {
      "text/plain": [
       "'playing'"
      ]
     },
     "execution_count": 19,
     "metadata": {},
     "output_type": "execute_result"
    }
   ],
   "source": [
    "wnet.lemmatize(\"playing\")"
   ]
  },
  {
   "cell_type": "code",
   "execution_count": 20,
   "id": "326064f7",
   "metadata": {},
   "outputs": [
    {
     "data": {
      "text/plain": [
       "'play'"
      ]
     },
     "execution_count": 20,
     "metadata": {},
     "output_type": "execute_result"
    }
   ],
   "source": [
    "# pos - part of speech\n",
    "# v - verb\n",
    "wnet.lemmatize(\"playing\", pos='v')"
   ]
  },
  {
   "cell_type": "code",
   "execution_count": 21,
   "id": "bf4a5a15",
   "metadata": {},
   "outputs": [
    {
     "data": {
      "text/plain": [
       "'watch'"
      ]
     },
     "execution_count": 21,
     "metadata": {},
     "output_type": "execute_result"
    }
   ],
   "source": [
    "wnet.lemmatize(\"watching\", pos='v')"
   ]
  },
  {
   "cell_type": "code",
   "execution_count": 22,
   "id": "8025015f",
   "metadata": {},
   "outputs": [
    {
     "data": {
      "text/plain": [
       "'buy'"
      ]
     },
     "execution_count": 22,
     "metadata": {},
     "output_type": "execute_result"
    }
   ],
   "source": [
    "wnet.lemmatize(\"bought\", pos='v')"
   ]
  },
  {
   "cell_type": "code",
   "execution_count": 23,
   "id": "9ad1549d",
   "metadata": {},
   "outputs": [
    {
     "data": {
      "text/plain": [
       "'fly'"
      ]
     },
     "execution_count": 23,
     "metadata": {},
     "output_type": "execute_result"
    }
   ],
   "source": [
    "wnet.lemmatize(\"flying\", pos='v')"
   ]
  },
  {
   "cell_type": "code",
   "execution_count": 24,
   "id": "e3c9e840",
   "metadata": {},
   "outputs": [
    {
     "data": {
      "text/plain": [
       "'drive'"
      ]
     },
     "execution_count": 24,
     "metadata": {},
     "output_type": "execute_result"
    }
   ],
   "source": [
    "wnet.lemmatize(\"driving\", pos='v')"
   ]
  },
  {
   "cell_type": "code",
   "execution_count": 25,
   "id": "e1b65524",
   "metadata": {},
   "outputs": [
    {
     "data": {
      "text/plain": [
       "'driver'"
      ]
     },
     "execution_count": 25,
     "metadata": {},
     "output_type": "execute_result"
    }
   ],
   "source": [
    "wnet.lemmatize(\"driver\", pos='v')"
   ]
  },
  {
   "cell_type": "code",
   "execution_count": 26,
   "id": "9b69df17",
   "metadata": {},
   "outputs": [],
   "source": [
    "for i in range(len(wordsList)):\n",
    "    for j in range(len(wordsList[i])):\n",
    "        wordsList[i][j] = wnet.lemmatize(wordsList[i][j], pos='v')"
   ]
  },
  {
   "cell_type": "code",
   "execution_count": 27,
   "id": "d8a68654",
   "metadata": {},
   "outputs": [
    {
     "name": "stdout",
     "output_type": "stream",
     "text": [
      "[['movie', 'bore', 'watch', 'till', 'interval', 'dont', 'waste', 'money'], ['really', 'enjoy', 'movie', 'act', 'great'], ['much', 'wastage', 'money', 'kind', 'movie', 'never', 'watch', 'type', 'movie']]\n"
     ]
    }
   ],
   "source": [
    "print(wordsList)"
   ]
  },
  {
   "cell_type": "code",
   "execution_count": 28,
   "id": "57eb6975",
   "metadata": {},
   "outputs": [],
   "source": [
    "final_list = []\n",
    "for i in range(len(wordsList)):\n",
    "    final_list.append(\" \".join(wordsList[i]))"
   ]
  },
  {
   "cell_type": "code",
   "execution_count": 29,
   "id": "ff98123f",
   "metadata": {},
   "outputs": [
    {
     "data": {
      "text/plain": [
       "['movie bore watch till interval dont waste money',\n",
       " 'really enjoy movie act great',\n",
       " 'much wastage money kind movie never watch type movie']"
      ]
     },
     "execution_count": 29,
     "metadata": {},
     "output_type": "execute_result"
    }
   ],
   "source": [
    "final_list"
   ]
  },
  {
   "cell_type": "code",
   "execution_count": 30,
   "id": "c9f2cf60",
   "metadata": {},
   "outputs": [],
   "source": [
    "tfidf = TfidfVectorizer()"
   ]
  },
  {
   "cell_type": "code",
   "execution_count": 31,
   "id": "f84c96b2",
   "metadata": {},
   "outputs": [
    {
     "data": {
      "text/plain": [
       "TfidfVectorizer()"
      ]
     },
     "execution_count": 31,
     "metadata": {},
     "output_type": "execute_result"
    }
   ],
   "source": [
    "tfidf.fit(final_list)"
   ]
  },
  {
   "cell_type": "code",
   "execution_count": 32,
   "id": "85cb6d83",
   "metadata": {},
   "outputs": [
    {
     "name": "stdout",
     "output_type": "stream",
     "text": [
      "{'movie': 8, 'bore': 1, 'watch': 16, 'till': 12, 'interval': 5, 'dont': 2, 'waste': 15, 'money': 7, 'really': 11, 'enjoy': 3, 'act': 0, 'great': 4, 'much': 9, 'wastage': 14, 'kind': 6, 'never': 10, 'type': 13}\n"
     ]
    }
   ],
   "source": [
    "print(tfidf.vocabulary_)"
   ]
  },
  {
   "cell_type": "code",
   "execution_count": 33,
   "id": "f4ca1a76",
   "metadata": {},
   "outputs": [
    {
     "data": {
      "text/plain": [
       "array([[0.        , 0.39206263, 0.39206263, 0.        , 0.        ,\n",
       "        0.39206263, 0.        , 0.29817373, 0.2315585 , 0.        ,\n",
       "        0.        , 0.        , 0.39206263, 0.        , 0.        ,\n",
       "        0.39206263, 0.29817373],\n",
       "       [0.47952794, 0.        , 0.        , 0.47952794, 0.47952794,\n",
       "        0.        , 0.        , 0.        , 0.28321692, 0.        ,\n",
       "        0.        , 0.47952794, 0.        , 0.        , 0.        ,\n",
       "        0.        , 0.        ],\n",
       "       [0.        , 0.        , 0.        , 0.        , 0.        ,\n",
       "        0.        , 0.36388646, 0.27674503, 0.42983441, 0.36388646,\n",
       "        0.36388646, 0.        , 0.        , 0.36388646, 0.36388646,\n",
       "        0.        , 0.27674503]])"
      ]
     },
     "execution_count": 33,
     "metadata": {},
     "output_type": "execute_result"
    }
   ],
   "source": [
    "tfidf = TfidfVectorizer()\n",
    "tfidf.fit_transform(final_list).toarray()"
   ]
  },
  {
   "cell_type": "code",
   "execution_count": null,
   "id": "9de1c6cb",
   "metadata": {},
   "outputs": [],
   "source": []
  }
 ],
 "metadata": {
  "kernelspec": {
   "display_name": "Python 3 (ipykernel)",
   "language": "python",
   "name": "python3"
  },
  "language_info": {
   "codemirror_mode": {
    "name": "ipython",
    "version": 3
   },
   "file_extension": ".py",
   "mimetype": "text/x-python",
   "name": "python",
   "nbconvert_exporter": "python",
   "pygments_lexer": "ipython3",
   "version": "3.9.7"
  }
 },
 "nbformat": 4,
 "nbformat_minor": 5
}
