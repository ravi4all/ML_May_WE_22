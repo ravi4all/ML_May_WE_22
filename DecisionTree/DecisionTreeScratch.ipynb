{
 "cells": [
  {
   "cell_type": "code",
   "execution_count": 1,
   "id": "654dde15",
   "metadata": {},
   "outputs": [],
   "source": [
    "import pandas as pd\n",
    "import numpy as np"
   ]
  },
  {
   "cell_type": "code",
   "execution_count": 2,
   "id": "1100f19a",
   "metadata": {},
   "outputs": [],
   "source": [
    "data = {\n",
    "    \"outlook\" : ['sunny','sunny','overcast','rainy','rainy','rainy','overcast','sunny','sunny','rainy','sunny','overcast','overcast','rainy'],\n",
    "    \"temp\" : ['hot','hot','hot','mild','cool','cool','cool','mild','cool','mild','mild','mild','hot','mild'],\n",
    "    'humidity' : ['high','high','high','high','normal','normal','normal','high','normal','normal','normal','high','normal','high'],\n",
    "    'windy' : ['false','true','false','false','false','true','true','false','false','false','true','true','false','true'],\n",
    "    'play' : ['no','no','yes','yes','yes','no','yes','no','yes','yes','yes','yes','yes','no']\n",
    "}"
   ]
  },
  {
   "cell_type": "code",
   "execution_count": 3,
   "id": "c736bc77",
   "metadata": {},
   "outputs": [],
   "source": [
    "df = pd.DataFrame(data)"
   ]
  },
  {
   "cell_type": "code",
   "execution_count": 4,
   "id": "3c20851a",
   "metadata": {},
   "outputs": [
    {
     "data": {
      "text/html": [
       "<div>\n",
       "<style scoped>\n",
       "    .dataframe tbody tr th:only-of-type {\n",
       "        vertical-align: middle;\n",
       "    }\n",
       "\n",
       "    .dataframe tbody tr th {\n",
       "        vertical-align: top;\n",
       "    }\n",
       "\n",
       "    .dataframe thead th {\n",
       "        text-align: right;\n",
       "    }\n",
       "</style>\n",
       "<table border=\"1\" class=\"dataframe\">\n",
       "  <thead>\n",
       "    <tr style=\"text-align: right;\">\n",
       "      <th></th>\n",
       "      <th>outlook</th>\n",
       "      <th>temp</th>\n",
       "      <th>humidity</th>\n",
       "      <th>windy</th>\n",
       "      <th>play</th>\n",
       "    </tr>\n",
       "  </thead>\n",
       "  <tbody>\n",
       "    <tr>\n",
       "      <th>0</th>\n",
       "      <td>sunny</td>\n",
       "      <td>hot</td>\n",
       "      <td>high</td>\n",
       "      <td>false</td>\n",
       "      <td>no</td>\n",
       "    </tr>\n",
       "    <tr>\n",
       "      <th>1</th>\n",
       "      <td>sunny</td>\n",
       "      <td>hot</td>\n",
       "      <td>high</td>\n",
       "      <td>true</td>\n",
       "      <td>no</td>\n",
       "    </tr>\n",
       "    <tr>\n",
       "      <th>2</th>\n",
       "      <td>overcast</td>\n",
       "      <td>hot</td>\n",
       "      <td>high</td>\n",
       "      <td>false</td>\n",
       "      <td>yes</td>\n",
       "    </tr>\n",
       "    <tr>\n",
       "      <th>3</th>\n",
       "      <td>rainy</td>\n",
       "      <td>mild</td>\n",
       "      <td>high</td>\n",
       "      <td>false</td>\n",
       "      <td>yes</td>\n",
       "    </tr>\n",
       "    <tr>\n",
       "      <th>4</th>\n",
       "      <td>rainy</td>\n",
       "      <td>cool</td>\n",
       "      <td>normal</td>\n",
       "      <td>false</td>\n",
       "      <td>yes</td>\n",
       "    </tr>\n",
       "  </tbody>\n",
       "</table>\n",
       "</div>"
      ],
      "text/plain": [
       "    outlook  temp humidity  windy play\n",
       "0     sunny   hot     high  false   no\n",
       "1     sunny   hot     high   true   no\n",
       "2  overcast   hot     high  false  yes\n",
       "3     rainy  mild     high  false  yes\n",
       "4     rainy  cool   normal  false  yes"
      ]
     },
     "execution_count": 4,
     "metadata": {},
     "output_type": "execute_result"
    }
   ],
   "source": [
    "df.head()"
   ]
  },
  {
   "cell_type": "code",
   "execution_count": 5,
   "id": "0a86e577",
   "metadata": {},
   "outputs": [
    {
     "data": {
      "text/plain": [
       "yes    9\n",
       "no     5\n",
       "Name: play, dtype: int64"
      ]
     },
     "execution_count": 5,
     "metadata": {},
     "output_type": "execute_result"
    }
   ],
   "source": [
    "pd.value_counts(df['play'])"
   ]
  },
  {
   "cell_type": "code",
   "execution_count": 6,
   "id": "a3512515",
   "metadata": {},
   "outputs": [
    {
     "data": {
      "text/plain": [
       "9"
      ]
     },
     "execution_count": 6,
     "metadata": {},
     "output_type": "execute_result"
    }
   ],
   "source": [
    "pd.value_counts(df['play'])[0]"
   ]
  },
  {
   "cell_type": "code",
   "execution_count": 8,
   "id": "b4efb980",
   "metadata": {},
   "outputs": [],
   "source": [
    "targetValues = pd.value_counts(df['play'])\n",
    "total = df.shape[0]\n",
    "entropy = 0\n",
    "for i in targetValues:\n",
    "    x = (-i/total) * np.log2(i/total)\n",
    "    entropy += x"
   ]
  },
  {
   "cell_type": "code",
   "execution_count": 9,
   "id": "e3ec6ede",
   "metadata": {},
   "outputs": [
    {
     "data": {
      "text/plain": [
       "0.9402859586706311"
      ]
     },
     "execution_count": 9,
     "metadata": {},
     "output_type": "execute_result"
    }
   ],
   "source": [
    "entropy"
   ]
  },
  {
   "cell_type": "code",
   "execution_count": 10,
   "id": "a0008cfe",
   "metadata": {},
   "outputs": [
    {
     "data": {
      "text/plain": [
       "sunny       5\n",
       "rainy       5\n",
       "overcast    4\n",
       "Name: outlook, dtype: int64"
      ]
     },
     "execution_count": 10,
     "metadata": {},
     "output_type": "execute_result"
    }
   ],
   "source": [
    "pd.value_counts(df['outlook'])"
   ]
  },
  {
   "cell_type": "code",
   "execution_count": 12,
   "id": "8f786b66",
   "metadata": {},
   "outputs": [
    {
     "data": {
      "text/plain": [
       "no     3\n",
       "yes    2\n",
       "Name: play, dtype: int64"
      ]
     },
     "execution_count": 12,
     "metadata": {},
     "output_type": "execute_result"
    }
   ],
   "source": [
    "pd.value_counts(df[df['outlook'] == 'sunny']['play'])"
   ]
  },
  {
   "cell_type": "code",
   "execution_count": 17,
   "id": "7edc72f0",
   "metadata": {},
   "outputs": [],
   "source": [
    "outcome = pd.value_counts(df[df['outlook'] == 'sunny']['play'])"
   ]
  },
  {
   "cell_type": "code",
   "execution_count": 19,
   "id": "e0b9a604",
   "metadata": {},
   "outputs": [
    {
     "data": {
      "text/plain": [
       "5"
      ]
     },
     "execution_count": 19,
     "metadata": {},
     "output_type": "execute_result"
    }
   ],
   "source": [
    "sum(outcome)"
   ]
  },
  {
   "cell_type": "code",
   "execution_count": 13,
   "id": "4013c9b8",
   "metadata": {},
   "outputs": [
    {
     "data": {
      "text/plain": [
       "yes    3\n",
       "no     2\n",
       "Name: play, dtype: int64"
      ]
     },
     "execution_count": 13,
     "metadata": {},
     "output_type": "execute_result"
    }
   ],
   "source": [
    "pd.value_counts(df[df['outlook'] == 'rainy']['play'])"
   ]
  },
  {
   "cell_type": "code",
   "execution_count": 14,
   "id": "468e169a",
   "metadata": {},
   "outputs": [
    {
     "data": {
      "text/plain": [
       "yes    4\n",
       "Name: play, dtype: int64"
      ]
     },
     "execution_count": 14,
     "metadata": {},
     "output_type": "execute_result"
    }
   ],
   "source": [
    "pd.value_counts(df[df['outlook'] == 'overcast']['play'])"
   ]
  },
  {
   "cell_type": "code",
   "execution_count": 15,
   "id": "196230e9",
   "metadata": {},
   "outputs": [],
   "source": [
    "values = pd.unique(df['outlook'])"
   ]
  },
  {
   "cell_type": "code",
   "execution_count": 16,
   "id": "55873c3b",
   "metadata": {},
   "outputs": [
    {
     "data": {
      "text/plain": [
       "array(['sunny', 'overcast', 'rainy'], dtype=object)"
      ]
     },
     "execution_count": 16,
     "metadata": {},
     "output_type": "execute_result"
    }
   ],
   "source": [
    "values"
   ]
  },
  {
   "cell_type": "code",
   "execution_count": 33,
   "id": "4a207fc3",
   "metadata": {},
   "outputs": [],
   "source": [
    "def calcAvg(colName):\n",
    "    n = df.shape[0]\n",
    "    avgInfo = 0\n",
    "    values = np.unique(df[colName])\n",
    "    for val in values:\n",
    "        outcome = pd.value_counts(df[df[colName] == val]['play'])\n",
    "        totalOutcomes = sum(outcome)\n",
    "        entropy = 0\n",
    "        for out in outcome:\n",
    "            x = (-out/totalOutcomes) * np.log2(out/totalOutcomes)\n",
    "            entropy += x\n",
    "        avgInfo += totalOutcomes/n * entropy\n",
    "    return avgInfo"
   ]
  },
  {
   "cell_type": "code",
   "execution_count": 34,
   "id": "cb7b3caf",
   "metadata": {},
   "outputs": [
    {
     "data": {
      "text/plain": [
       "0.6935361388961918"
      ]
     },
     "execution_count": 34,
     "metadata": {},
     "output_type": "execute_result"
    }
   ],
   "source": [
    "calcAvg('outlook')"
   ]
  },
  {
   "cell_type": "code",
   "execution_count": 35,
   "id": "4826e7e8",
   "metadata": {},
   "outputs": [
    {
     "data": {
      "text/plain": [
       "0.9110633930116763"
      ]
     },
     "execution_count": 35,
     "metadata": {},
     "output_type": "execute_result"
    }
   ],
   "source": [
    "calcAvg('temp')"
   ]
  },
  {
   "cell_type": "code",
   "execution_count": 36,
   "id": "109d850b",
   "metadata": {},
   "outputs": [
    {
     "data": {
      "text/plain": [
       "0.7884504573082896"
      ]
     },
     "execution_count": 36,
     "metadata": {},
     "output_type": "execute_result"
    }
   ],
   "source": [
    "calcAvg('humidity')"
   ]
  },
  {
   "cell_type": "code",
   "execution_count": 37,
   "id": "05fd475a",
   "metadata": {},
   "outputs": [
    {
     "data": {
      "text/plain": [
       "0.8921589282623617"
      ]
     },
     "execution_count": 37,
     "metadata": {},
     "output_type": "execute_result"
    }
   ],
   "source": [
    "calcAvg('windy')"
   ]
  },
  {
   "cell_type": "code",
   "execution_count": null,
   "id": "5d27215f",
   "metadata": {},
   "outputs": [],
   "source": []
  }
 ],
 "metadata": {
  "kernelspec": {
   "display_name": "Python 3 (ipykernel)",
   "language": "python",
   "name": "python3"
  },
  "language_info": {
   "codemirror_mode": {
    "name": "ipython",
    "version": 3
   },
   "file_extension": ".py",
   "mimetype": "text/x-python",
   "name": "python",
   "nbconvert_exporter": "python",
   "pygments_lexer": "ipython3",
   "version": "3.9.7"
  }
 },
 "nbformat": 4,
 "nbformat_minor": 5
}
