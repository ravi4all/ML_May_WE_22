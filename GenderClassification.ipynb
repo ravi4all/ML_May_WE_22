{
 "cells": [
  {
   "cell_type": "code",
   "execution_count": 2,
   "id": "d1664a0f",
   "metadata": {},
   "outputs": [],
   "source": [
    "import numpy as np\n",
    "import cv2\n",
    "import os"
   ]
  },
  {
   "cell_type": "code",
   "execution_count": 3,
   "id": "ae0d7943",
   "metadata": {},
   "outputs": [],
   "source": [
    "TRAINING_PATH = \"dataset/Training/\"\n",
    "TEST_PATH = \"dataset/Validation/\""
   ]
  },
  {
   "cell_type": "code",
   "execution_count": 4,
   "id": "11671cb5",
   "metadata": {},
   "outputs": [],
   "source": [
    "files = os.listdir(TRAINING_PATH+\"/male\")"
   ]
  },
  {
   "cell_type": "code",
   "execution_count": 5,
   "id": "342a79f8",
   "metadata": {},
   "outputs": [
    {
     "data": {
      "text/plain": [
       "23766"
      ]
     },
     "execution_count": 5,
     "metadata": {},
     "output_type": "execute_result"
    }
   ],
   "source": [
    "len(files)"
   ]
  },
  {
   "cell_type": "code",
   "execution_count": 12,
   "id": "c7ccf1df",
   "metadata": {},
   "outputs": [],
   "source": [
    "img_1 = TRAINING_PATH + \"/male/\" + files[0]"
   ]
  },
  {
   "cell_type": "code",
   "execution_count": 13,
   "id": "58b3e5a1",
   "metadata": {},
   "outputs": [
    {
     "data": {
      "text/plain": [
       "-1"
      ]
     },
     "execution_count": 13,
     "metadata": {},
     "output_type": "execute_result"
    }
   ],
   "source": [
    "img = cv2.imread(img_1)\n",
    "cv2.imshow('img', img)\n",
    "cv2.waitKey(0)"
   ]
  },
  {
   "cell_type": "code",
   "execution_count": 14,
   "id": "8613bb63",
   "metadata": {},
   "outputs": [
    {
     "data": {
      "text/plain": [
       "(117, 87, 3)"
      ]
     },
     "execution_count": 14,
     "metadata": {},
     "output_type": "execute_result"
    }
   ],
   "source": [
    "img.shape"
   ]
  },
  {
   "cell_type": "code",
   "execution_count": 15,
   "id": "b725d177",
   "metadata": {},
   "outputs": [],
   "source": [
    "haar_data = cv2.CascadeClassifier('haarcascade_frontalface_default.xml')\n",
    "face = haar_data.detectMultiScale(img)"
   ]
  },
  {
   "cell_type": "code",
   "execution_count": 16,
   "id": "3c9ff993",
   "metadata": {},
   "outputs": [
    {
     "data": {
      "text/plain": [
       "array([[ 3, 15, 81, 81]])"
      ]
     },
     "execution_count": 16,
     "metadata": {},
     "output_type": "execute_result"
    }
   ],
   "source": [
    "face"
   ]
  },
  {
   "cell_type": "code",
   "execution_count": 19,
   "id": "b9bddc44",
   "metadata": {},
   "outputs": [],
   "source": [
    "x,y,w,h = face[0]\n",
    "face = img[y:y+h, x:x+w, :]"
   ]
  },
  {
   "cell_type": "code",
   "execution_count": 20,
   "id": "c191f9fe",
   "metadata": {},
   "outputs": [],
   "source": [
    "face = cv2.resize(face, (50,50))"
   ]
  },
  {
   "cell_type": "code",
   "execution_count": 21,
   "id": "6685efff",
   "metadata": {},
   "outputs": [
    {
     "data": {
      "text/plain": [
       "-1"
      ]
     },
     "execution_count": 21,
     "metadata": {},
     "output_type": "execute_result"
    }
   ],
   "source": [
    "cv2.imshow('img', face)\n",
    "cv2.waitKey(0)"
   ]
  },
  {
   "cell_type": "code",
   "execution_count": 25,
   "id": "217bab80",
   "metadata": {},
   "outputs": [],
   "source": [
    "haar_data = cv2.CascadeClassifier('haarcascade_frontalface_default.xml')\n",
    "\n",
    "def load_data(files, category):\n",
    "    images = []\n",
    "    labels = []\n",
    "    for i in range(len(files)):\n",
    "        try:\n",
    "            img_path = TRAINING_PATH + category + \"/\" + files[i]\n",
    "            img = cv2.imread(img_path)\n",
    "            face_coords = haar_data.detectMultiScale(img)\n",
    "            x,y,w,h = face_coords[0]\n",
    "            face = img[y:y+h, x:x+w, :]\n",
    "            face = cv2.resize(face, (50,50))\n",
    "            images.append(face)\n",
    "            labels.append(category)\n",
    "        except:\n",
    "            pass\n",
    "    return images, labels"
   ]
  },
  {
   "cell_type": "code",
   "execution_count": 26,
   "id": "3e5596bd",
   "metadata": {},
   "outputs": [],
   "source": [
    "train_male_files = os.listdir(TRAINING_PATH+\"/male\")\n",
    "train_female_files = os.listdir(TRAINING_PATH+\"/male\")\n",
    "male_training_images, male_train_labels = load_data(train_male_files, 'male')\n",
    "# load_data(train_female_files, 'female')\n",
    "\n",
    "# load_data(test_male_files, 'male')\n",
    "# load_data(test_female_files, 'female')"
   ]
  },
  {
   "cell_type": "code",
   "execution_count": 27,
   "id": "fefc4555",
   "metadata": {},
   "outputs": [
    {
     "data": {
      "text/plain": [
       "7850"
      ]
     },
     "execution_count": 27,
     "metadata": {},
     "output_type": "execute_result"
    }
   ],
   "source": [
    "len(male_training_images)"
   ]
  },
  {
   "cell_type": "code",
   "execution_count": 28,
   "id": "1bfccad6",
   "metadata": {},
   "outputs": [],
   "source": [
    "import matplotlib.pyplot as plt"
   ]
  },
  {
   "cell_type": "code",
   "execution_count": 32,
   "id": "46a1700d",
   "metadata": {},
   "outputs": [
    {
     "data": {
      "text/plain": [
       "<matplotlib.image.AxesImage at 0x197f7816be0>"
      ]
     },
     "execution_count": 32,
     "metadata": {},
     "output_type": "execute_result"
    },
    {
     "data": {
      "image/png": "[encoded data removed]",
      "text/plain": [
       "<Figure size 432x288 with 1 Axes>"
      ]
     },
     "metadata": {
      "needs_background": "light"
     },
     "output_type": "display_data"
    }
   ],
   "source": [
    "plt.imshow(male_training_images[1645])"
   ]
  },
  {
   "cell_type": "code",
   "execution_count": 33,
   "id": "6389614d",
   "metadata": {},
   "outputs": [],
   "source": [
    "train_female_files = os.listdir(TRAINING_PATH+\"/female\")\n",
    "female_training_images, female_train_labels = load_data(train_female_files, 'female')"
   ]
  },
  {
   "cell_type": "code",
   "execution_count": 34,
   "id": "88601834",
   "metadata": {},
   "outputs": [
    {
     "data": {
      "text/plain": [
       "8373"
      ]
     },
     "execution_count": 34,
     "metadata": {},
     "output_type": "execute_result"
    }
   ],
   "source": [
    "len(female_training_images)"
   ]
  },
  {
   "cell_type": "code",
   "execution_count": 36,
   "id": "d12feba0",
   "metadata": {},
   "outputs": [
    {
     "data": {
      "text/plain": [
       "<matplotlib.image.AxesImage at 0x197f7a7a460>"
      ]
     },
     "execution_count": 36,
     "metadata": {},
     "output_type": "execute_result"
    },
    {
     "data": {
      "image/png": "[encoded data removed]",
      "text/plain": [
       "<Figure size 432x288 with 1 Axes>"
      ]
     },
     "metadata": {
      "needs_background": "light"
     },
     "output_type": "display_data"
    }
   ],
   "source": [
    "plt.imshow(female_training_images[145])"
   ]
  },
  {
   "cell_type": "code",
   "execution_count": null,
   "id": "dc5b4004",
   "metadata": {},
   "outputs": [],
   "source": []
  }
 ],
 "metadata": {
  "kernelspec": {
   "display_name": "Python 3 (ipykernel)",
   "language": "python",
   "name": "python3"
  },
  "language_info": {
   "codemirror_mode": {
    "name": "ipython",
    "version": 3
   },
   "file_extension": ".py",
   "mimetype": "text/x-python",
   "name": "python",
   "nbconvert_exporter": "python",
   "pygments_lexer": "ipython3",
   "version": "3.9.7"
  }
 },
 "nbformat": 4,
 "nbformat_minor": 5
}
