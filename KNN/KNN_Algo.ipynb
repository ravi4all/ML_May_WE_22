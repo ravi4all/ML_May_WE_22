{
 "cells": [
  {
   "cell_type": "code",
   "execution_count": 7,
   "id": "af130f21",
   "metadata": {},
   "outputs": [],
   "source": [
    "import numpy as np\n",
    "import pandas as pd\n",
    "import matplotlib.pyplot as plt"
   ]
  },
  {
   "cell_type": "code",
   "execution_count": 3,
   "id": "56061968",
   "metadata": {},
   "outputs": [],
   "source": [
    "data = {\n",
    "    \"height\" : [5.6, 5.8, 5.9, 5.0, 4.9, 5.2, 5.9, 5.9, 6.2, 6.0, 5.9, 5.0, 5.2, 5.3, 5.2],\n",
    "    \"weight\" : [70, 78, 88, 50, 48, 55, 75, 80, 85, 90, 82, 49, 55, 60, 53],\n",
    "    \"gender\" : [1, 1, 1, 0, 0, 0, 1, 1, 1, 1, 1, 0, 0, 0, 0]\n",
    "}"
   ]
  },
  {
   "cell_type": "code",
   "execution_count": 4,
   "id": "8f5d2e15",
   "metadata": {},
   "outputs": [],
   "source": [
    "df = pd.DataFrame(data)"
   ]
  },
  {
   "cell_type": "code",
   "execution_count": 6,
   "id": "536fb4f9",
   "metadata": {},
   "outputs": [
    {
     "data": {
      "text/html": [
       "<div>\n",
       "<style scoped>\n",
       "    .dataframe tbody tr th:only-of-type {\n",
       "        vertical-align: middle;\n",
       "    }\n",
       "\n",
       "    .dataframe tbody tr th {\n",
       "        vertical-align: top;\n",
       "    }\n",
       "\n",
       "    .dataframe thead th {\n",
       "        text-align: right;\n",
       "    }\n",
       "</style>\n",
       "<table border=\"1\" class=\"dataframe\">\n",
       "  <thead>\n",
       "    <tr style=\"text-align: right;\">\n",
       "      <th></th>\n",
       "      <th>height</th>\n",
       "      <th>weight</th>\n",
       "      <th>gender</th>\n",
       "    </tr>\n",
       "  </thead>\n",
       "  <tbody>\n",
       "    <tr>\n",
       "      <th>0</th>\n",
       "      <td>5.6</td>\n",
       "      <td>70</td>\n",
       "      <td>1</td>\n",
       "    </tr>\n",
       "    <tr>\n",
       "      <th>1</th>\n",
       "      <td>5.8</td>\n",
       "      <td>78</td>\n",
       "      <td>1</td>\n",
       "    </tr>\n",
       "    <tr>\n",
       "      <th>2</th>\n",
       "      <td>5.9</td>\n",
       "      <td>88</td>\n",
       "      <td>1</td>\n",
       "    </tr>\n",
       "    <tr>\n",
       "      <th>3</th>\n",
       "      <td>5.0</td>\n",
       "      <td>50</td>\n",
       "      <td>0</td>\n",
       "    </tr>\n",
       "    <tr>\n",
       "      <th>4</th>\n",
       "      <td>4.9</td>\n",
       "      <td>48</td>\n",
       "      <td>0</td>\n",
       "    </tr>\n",
       "  </tbody>\n",
       "</table>\n",
       "</div>"
      ],
      "text/plain": [
       "   height  weight  gender\n",
       "0     5.6      70       1\n",
       "1     5.8      78       1\n",
       "2     5.9      88       1\n",
       "3     5.0      50       0\n",
       "4     4.9      48       0"
      ]
     },
     "execution_count": 6,
     "metadata": {},
     "output_type": "execute_result"
    }
   ],
   "source": [
    "df.head()"
   ]
  },
  {
   "cell_type": "code",
   "execution_count": 10,
   "id": "6be8ef23",
   "metadata": {},
   "outputs": [
    {
     "data": {
      "image/png": "[encoded data removed]",
      "text/plain": [
       "<Figure size 432x288 with 1 Axes>"
      ]
     },
     "metadata": {
      "needs_background": "light"
     },
     "output_type": "display_data"
    }
   ],
   "source": [
    "plt.scatter(df['height'], df['weight'],c=df['gender'])\n",
    "plt.show()"
   ]
  },
  {
   "cell_type": "code",
   "execution_count": 44,
   "id": "0d4e87bd",
   "metadata": {},
   "outputs": [],
   "source": [
    "test_data = {'height': [5.5], 'weight' : [65]}"
   ]
  },
  {
   "cell_type": "code",
   "execution_count": 45,
   "id": "2aaa64f3",
   "metadata": {},
   "outputs": [],
   "source": [
    "def distance(x1,x2,y1,y2):\n",
    "    return np.sqrt(((x2-x1) ** 2) + ((y2 -  y1) ** 2))"
   ]
  },
  {
   "cell_type": "code",
   "execution_count": 46,
   "id": "1dd17c35",
   "metadata": {},
   "outputs": [],
   "source": [
    "dist = []\n",
    "for i in range(len(df)):\n",
    "    d = distance(test_data['height'], df['height'][i], test_data['weight'], df['weight'][i])\n",
    "    dist.append(d)\n",
    "dist = np.asarray(dist)"
   ]
  },
  {
   "cell_type": "code",
   "execution_count": 47,
   "id": "c86cd7de",
   "metadata": {},
   "outputs": [
    {
     "data": {
      "text/plain": [
       "array([[ 5.0009999 ],\n",
       "       [13.00346108],\n",
       "       [23.003478  ],\n",
       "       [15.00833102],\n",
       "       [17.01058494]])"
      ]
     },
     "execution_count": 47,
     "metadata": {},
     "output_type": "execute_result"
    }
   ],
   "source": [
    "dist[:5]"
   ]
  },
  {
   "cell_type": "code",
   "execution_count": 48,
   "id": "2c268300",
   "metadata": {},
   "outputs": [],
   "source": [
    "dist = dist.flatten()"
   ]
  },
  {
   "cell_type": "code",
   "execution_count": 49,
   "id": "a9d3584f",
   "metadata": {},
   "outputs": [],
   "source": [
    "sorted_index = np.argsort(dist)"
   ]
  },
  {
   "cell_type": "code",
   "execution_count": 50,
   "id": "f542eaae",
   "metadata": {},
   "outputs": [
    {
     "data": {
      "text/plain": [
       "array([ 0, 13,  5, 12,  6, 14,  1,  7,  3, 11, 10,  4,  8,  2,  9],\n",
       "      dtype=int64)"
      ]
     },
     "execution_count": 50,
     "metadata": {},
     "output_type": "execute_result"
    }
   ],
   "source": [
    "sorted_index"
   ]
  },
  {
   "cell_type": "code",
   "execution_count": 54,
   "id": "77c380d4",
   "metadata": {},
   "outputs": [
    {
     "data": {
      "text/plain": [
       "0     1\n",
       "13    0\n",
       "5     0\n",
       "12    0\n",
       "6     1\n",
       "14    0\n",
       "1     1\n",
       "Name: gender, dtype: int64"
      ]
     },
     "execution_count": 54,
     "metadata": {},
     "output_type": "execute_result"
    }
   ],
   "source": [
    "df['gender'][sorted_index][:7]"
   ]
  },
  {
   "cell_type": "code",
   "execution_count": null,
   "id": "05babda7",
   "metadata": {},
   "outputs": [],
   "source": []
  }
 ],
 "metadata": {
  "kernelspec": {
   "display_name": "Python 3 (ipykernel)",
   "language": "python",
   "name": "python3"
  },
  "language_info": {
   "codemirror_mode": {
    "name": "ipython",
    "version": 3
   },
   "file_extension": ".py",
   "mimetype": "text/x-python",
   "name": "python",
   "nbconvert_exporter": "python",
   "pygments_lexer": "ipython3",
   "version": "3.9.7"
  }
 },
 "nbformat": 4,
 "nbformat_minor": 5
}
