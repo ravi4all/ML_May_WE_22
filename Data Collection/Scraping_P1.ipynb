{
 "cells": [
  {
   "cell_type": "code",
   "execution_count": 1,
   "id": "4ba4e973",
   "metadata": {},
   "outputs": [],
   "source": [
    "# bs4 - Beautiful Soup\n",
    "import bs4\n",
    "import urllib.request as url"
   ]
  },
  {
   "cell_type": "code",
   "execution_count": 2,
   "id": "2b11cacd",
   "metadata": {},
   "outputs": [
    {
     "data": {
      "text/plain": [
       "<http.client.HTTPResponse at 0x1aff6d8e550>"
      ]
     },
     "execution_count": 2,
     "metadata": {},
     "output_type": "execute_result"
    }
   ],
   "source": [
    "url.urlopen(\"https://www.flipkart.com/apple-iphone-12-green-128-gb/product-reviews/itm4e0a120f7d9c4?pid=MOBFWBYZQXUEHF48&lid=LSTMOBFWBYZQXUEHF481T4EBB&aid=overall&certifiedBuyer=false&sortOrder=POSITIVE_FIRST\")"
   ]
  },
  {
   "cell_type": "code",
   "execution_count": 3,
   "id": "56d57d6e",
   "metadata": {},
   "outputs": [],
   "source": [
    "response = url.urlopen(\"https://www.flipkart.com/apple-iphone-12-green-128-gb/product-reviews/itm4e0a120f7d9c4?pid=MOBFWBYZQXUEHF48&lid=LSTMOBFWBYZQXUEHF481T4EBB&aid=overall&certifiedBuyer=false&sortOrder=POSITIVE_FIRST\")"
   ]
  },
  {
   "cell_type": "code",
   "execution_count": 4,
   "id": "279765d8",
   "metadata": {},
   "outputs": [],
   "source": [
    "page = bs4.BeautifulSoup(response)"
   ]
  },
  {
   "cell_type": "code",
   "execution_count": 5,
   "id": "6b59b478",
   "metadata": {},
   "outputs": [
    {
     "data": {
      "text/plain": [
       "<div class=\"t-ZTKy\"><div><div class=\"\">Wow superb camera phone <br/>Very smooth speed and no lag , iphone is the king always <br/>Its a beautiful product</div><span class=\"_1H-bmy\"><span>READ MORE</span></span></div></div>"
      ]
     },
     "execution_count": 5,
     "metadata": {},
     "output_type": "execute_result"
    }
   ],
   "source": [
    "page.find('div', {'class' : 't-ZTKy'})"
   ]
  },
  {
   "cell_type": "code",
   "execution_count": 6,
   "id": "cea3d548",
   "metadata": {},
   "outputs": [],
   "source": [
    "review = page.find('div', {'class' : 't-ZTKy'})"
   ]
  },
  {
   "cell_type": "code",
   "execution_count": 7,
   "id": "abd3b5ff",
   "metadata": {},
   "outputs": [
    {
     "data": {
      "text/plain": [
       "'Wow superb camera phone Very smooth speed and no lag , iphone is the king always Its a beautiful productREAD MORE'"
      ]
     },
     "execution_count": 7,
     "metadata": {},
     "output_type": "execute_result"
    }
   ],
   "source": [
    "review.text"
   ]
  },
  {
   "cell_type": "code",
   "execution_count": 8,
   "id": "378c8f88",
   "metadata": {},
   "outputs": [],
   "source": [
    "reviewList = page.find_all('div', {'class' : 't-ZTKy'})"
   ]
  },
  {
   "cell_type": "code",
   "execution_count": 10,
   "id": "f5dd45c1",
   "metadata": {},
   "outputs": [
    {
     "name": "stdout",
     "output_type": "stream",
     "text": [
      "Wow superb camera phone Very smooth speed and no lag , iphone is the king always Its a beautiful productREAD MORE\n",
      "********************\n",
      "The brand is very trustworthy and i got genuine pice at a very low cost.I ordered the green one and trust me the colour was amazing.All the colours but specifically green and purple are nice for look.Thanks to flipkart❤️READ MORE\n",
      "********************\n",
      "Awesome phone … value for money.. Happy with battery life.. Awesome camera features… look at the images snapped using the phone… easy to use.. Just feared about getting scratch at back glass… but using cover helped it…READ MORE\n",
      "********************\n",
      "Guys ,this is just Beast at Every Aspect of Configurations, Full Pack with What You want, Like Best Camera , Best Display, Best Battery for whole Day Use, And Everyone know About Processing Speed👌..READ MORE\n",
      "********************\n",
      "Thanks flipkart i trust you got my device perfectly loved it best phone in it's segmentREAD MORE\n",
      "********************\n",
      "Excellent product worth for every penny, writing this review after using 7 days, earlier was using iPhone 6Plus now on iPhone 12 😍, faster then anything this else.Excellent Picture quality.Just loved it.!!READ MORE\n",
      "********************\n",
      "My 1st iPhone ever and I’m loving it. Great performance, awesome display, camera is outstanding which comes with heavily priced. But worth it. White color looks super cool. 🎉😊😍READ MORE\n",
      "********************\n",
      "Delightful phone, the phone is just a peice of art, sleek, eye catchy, super fast and got everything u need...best one availableREAD MORE\n",
      "********************\n",
      "It’s my first iPhone ever and I bought it with my earned money through part time jobs in college✌️I am a tech freak so you can trust my views -- A14 Bionic is the fastest, most efficient and reliable processor till date- The camera focuses so quickly that you can take DSLR quality photos.- The screen size 6.1 inches is the most comfortable screen size out there and the OLED retina XDR display is so crisp and everything feels real.- The stereo speakers are so clear even on high volume an...READ MORE\n",
      "********************\n",
      "Excellent product worth every penny right this review after using 7 days earlier was using phone iPhone 6s now on iPhone 12😍😍 faster than anything this else… excellent picture quality just love it iPhone12READ MORE\n",
      "********************\n"
     ]
    }
   ],
   "source": [
    "for i in range(len(reviewList)):\n",
    "    print(reviewList[i].text)\n",
    "    print(\"*\" * 20)"
   ]
  },
  {
   "cell_type": "code",
   "execution_count": null,
   "id": "daa7a4c5",
   "metadata": {},
   "outputs": [],
   "source": []
  }
 ],
 "metadata": {
  "kernelspec": {
   "display_name": "Python 3 (ipykernel)",
   "language": "python",
   "name": "python3"
  },
  "language_info": {
   "codemirror_mode": {
    "name": "ipython",
    "version": 3
   },
   "file_extension": ".py",
   "mimetype": "text/x-python",
   "name": "python",
   "nbconvert_exporter": "python",
   "pygments_lexer": "ipython3",
   "version": "3.9.7"
  }
 },
 "nbformat": 4,
 "nbformat_minor": 5
}
