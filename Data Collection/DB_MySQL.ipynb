{
 "cells": [
  {
   "cell_type": "code",
   "execution_count": 2,
   "id": "55308347",
   "metadata": {},
   "outputs": [
    {
     "name": "stdout",
     "output_type": "stream",
     "text": [
      "Collecting pymysql\n",
      "  Using cached PyMySQL-1.0.2-py3-none-any.whl (43 kB)\n",
      "Installing collected packages: pymysql\n",
      "Successfully installed pymysql-1.0.2\n"
     ]
    }
   ],
   "source": [
    "!pip install pymysql"
   ]
  },
  {
   "cell_type": "code",
   "execution_count": 3,
   "id": "cc7f9ca0",
   "metadata": {},
   "outputs": [],
   "source": [
    "import pymysql\n",
    "import pandas as pd"
   ]
  },
  {
   "cell_type": "code",
   "execution_count": 4,
   "id": "18ffa285",
   "metadata": {},
   "outputs": [],
   "source": [
    "connection = pymysql.connect(host='localhost', port=3307, user=\"root\",\n",
    "                            password=\"root\", database=\"shopapp\")"
   ]
  },
  {
   "cell_type": "code",
   "execution_count": 6,
   "id": "1fa5a297",
   "metadata": {},
   "outputs": [],
   "source": [
    "query = \"select * from employees\";"
   ]
  },
  {
   "cell_type": "code",
   "execution_count": 7,
   "id": "72451e4e",
   "metadata": {},
   "outputs": [
    {
     "data": {
      "text/html": [
       "<div>\n",
       "<style scoped>\n",
       "    .dataframe tbody tr th:only-of-type {\n",
       "        vertical-align: middle;\n",
       "    }\n",
       "\n",
       "    .dataframe tbody tr th {\n",
       "        vertical-align: top;\n",
       "    }\n",
       "\n",
       "    .dataframe thead th {\n",
       "        text-align: right;\n",
       "    }\n",
       "</style>\n",
       "<table border=\"1\" class=\"dataframe\">\n",
       "  <thead>\n",
       "    <tr style=\"text-align: right;\">\n",
       "      <th></th>\n",
       "      <th>e_id</th>\n",
       "      <th>firstname</th>\n",
       "      <th>lastname</th>\n",
       "      <th>dept</th>\n",
       "      <th>job_title</th>\n",
       "      <th>phone</th>\n",
       "      <th>city</th>\n",
       "      <th>salary</th>\n",
       "    </tr>\n",
       "  </thead>\n",
       "  <tbody>\n",
       "    <tr>\n",
       "      <th>0</th>\n",
       "      <td>101</td>\n",
       "      <td>Ram</td>\n",
       "      <td>Sharma</td>\n",
       "      <td>IT</td>\n",
       "      <td>Software Developer</td>\n",
       "      <td>989765431</td>\n",
       "      <td>Delhi</td>\n",
       "      <td>55000</td>\n",
       "    </tr>\n",
       "    <tr>\n",
       "      <th>1</th>\n",
       "      <td>102</td>\n",
       "      <td>Mohit</td>\n",
       "      <td>Sharma</td>\n",
       "      <td>IT</td>\n",
       "      <td>Software Developer</td>\n",
       "      <td>989765241</td>\n",
       "      <td>Delhi</td>\n",
       "      <td>45000</td>\n",
       "    </tr>\n",
       "    <tr>\n",
       "      <th>2</th>\n",
       "      <td>103</td>\n",
       "      <td>Aman</td>\n",
       "      <td>Kumar</td>\n",
       "      <td>Sales</td>\n",
       "      <td>Sales Admin</td>\n",
       "      <td>989765241</td>\n",
       "      <td>Delhi</td>\n",
       "      <td>70000</td>\n",
       "    </tr>\n",
       "    <tr>\n",
       "      <th>3</th>\n",
       "      <td>104</td>\n",
       "      <td>Pooja</td>\n",
       "      <td>Tyagi</td>\n",
       "      <td>HR</td>\n",
       "      <td>HR Head</td>\n",
       "      <td>989365241</td>\n",
       "      <td>Delhi</td>\n",
       "      <td>60000</td>\n",
       "    </tr>\n",
       "    <tr>\n",
       "      <th>4</th>\n",
       "      <td>105</td>\n",
       "      <td>Pooja</td>\n",
       "      <td>Sharma</td>\n",
       "      <td>IT</td>\n",
       "      <td>Tester</td>\n",
       "      <td>989365841</td>\n",
       "      <td>Delhi</td>\n",
       "      <td>35000</td>\n",
       "    </tr>\n",
       "    <tr>\n",
       "      <th>5</th>\n",
       "      <td>106</td>\n",
       "      <td>Deep</td>\n",
       "      <td>Singh</td>\n",
       "      <td>IT</td>\n",
       "      <td>Tester</td>\n",
       "      <td>989365811</td>\n",
       "      <td>Pune</td>\n",
       "      <td>45000</td>\n",
       "    </tr>\n",
       "    <tr>\n",
       "      <th>6</th>\n",
       "      <td>107</td>\n",
       "      <td>Aastha</td>\n",
       "      <td>Singh</td>\n",
       "      <td>HR</td>\n",
       "      <td>HR Manager</td>\n",
       "      <td>989165811</td>\n",
       "      <td>Pune</td>\n",
       "      <td>75000</td>\n",
       "    </tr>\n",
       "    <tr>\n",
       "      <th>7</th>\n",
       "      <td>108</td>\n",
       "      <td>Rakesh</td>\n",
       "      <td>Kapoor</td>\n",
       "      <td>IT</td>\n",
       "      <td>Web Developer</td>\n",
       "      <td>989165011</td>\n",
       "      <td>Chennai</td>\n",
       "      <td>65000</td>\n",
       "    </tr>\n",
       "  </tbody>\n",
       "</table>\n",
       "</div>"
      ],
      "text/plain": [
       "   e_id firstname lastname   dept           job_title      phone     city  \\\n",
       "0   101       Ram   Sharma     IT  Software Developer  989765431    Delhi   \n",
       "1   102     Mohit   Sharma     IT  Software Developer  989765241    Delhi   \n",
       "2   103      Aman    Kumar  Sales         Sales Admin  989765241    Delhi   \n",
       "3   104     Pooja    Tyagi     HR             HR Head  989365241    Delhi   \n",
       "4   105     Pooja   Sharma     IT              Tester  989365841    Delhi   \n",
       "5   106      Deep    Singh     IT              Tester  989365811     Pune   \n",
       "6   107    Aastha    Singh     HR          HR Manager  989165811     Pune   \n",
       "7   108    Rakesh   Kapoor     IT       Web Developer  989165011  Chennai   \n",
       "\n",
       "   salary  \n",
       "0   55000  \n",
       "1   45000  \n",
       "2   70000  \n",
       "3   60000  \n",
       "4   35000  \n",
       "5   45000  \n",
       "6   75000  \n",
       "7   65000  "
      ]
     },
     "execution_count": 7,
     "metadata": {},
     "output_type": "execute_result"
    }
   ],
   "source": [
    "pd.read_sql(query, connection)"
   ]
  },
  {
   "cell_type": "code",
   "execution_count": null,
   "id": "2051fef9",
   "metadata": {},
   "outputs": [],
   "source": []
  }
 ],
 "metadata": {
  "kernelspec": {
   "display_name": "Python 3 (ipykernel)",
   "language": "python",
   "name": "python3"
  },
  "language_info": {
   "codemirror_mode": {
    "name": "ipython",
    "version": 3
   },
   "file_extension": ".py",
   "mimetype": "text/x-python",
   "name": "python",
   "nbconvert_exporter": "python",
   "pygments_lexer": "ipython3",
   "version": "3.9.7"
  }
 },
 "nbformat": 4,
 "nbformat_minor": 5
}
